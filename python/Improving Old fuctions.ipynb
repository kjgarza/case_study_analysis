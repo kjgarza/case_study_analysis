{
 "cells": [
  {
   "cell_type": "markdown",
   "metadata": {},
   "source": [
    "# Improving Old fuctions\n",
    "\n",
    "\n",
    "Here I need to show all the descriptive stadistics by project, group and all the collaboration.\n"
   ]
  },
  {
   "cell_type": "markdown",
   "metadata": {},
   "source": [
    "\n",
    "### Load the Data\n"
   ]
  },
  {
   "cell_type": "code",
   "execution_count": 23,
   "metadata": {
    "collapsed": false
   },
   "outputs": [],
   "source": [
    "\n",
    "par(family=\"serif\", las=1, ps=18)\n",
    "\n",
    "source('~/Dropbox/case_sysmo/Scripts/userSysmo.R')\n",
    "source('~/Dropbox/case_sysmo/Scripts/assetsSysmo.R')\n",
    "source('~/Dropbox/case_sysmo/Scripts/projectSysmo.r')\n",
    "source('~/Dropbox/case_sysmo/Scripts/sharedAssetSysmo.r')\n",
    "source('~/Dropbox/case_sysmo/Scripts/contrastCodeSysmo.r')\n",
    "source('~/Dropbox/case_sysmo/Scripts/parallelsetGeneral.r')\n",
    "source('~/Dropbox/case_sysmo/Scripts/mainSysmo.r')\n",
    "# source('~/Dropbox/case_sysmo/Scripts/projectsDbM.r')\n",
    "# source('~/Dropbox/case_sysmo/Scripts/sharingSymo.r')\n",
    "# library(plotrix)\n",
    "library(psych)\n",
    "library(ggplot2)\n",
    "library(data.table)\n",
    "library(MASS)\n",
    "library(dplyr)\n",
    "library(R6)\n",
    "\n",
    "secndR<- as.Date(\"2010-03-01\")  # http://www.bbsrc.ac.uk/pa/grants/AwardDetails.aspx?FundingReference=BB%2FI004637%2F1\n",
    "eval10<- as.Date(\"2010-05-01\")  # http://www.bbsrc.ac.uk/pa/grants/AwardDetails.aspx?FundingReference=BB%2FI004637%2F1\n",
    "eval11<- as.Date(\"2011-02-01\")  \n",
    "eval12<- as.Date(\"2012-05-01\")  # https://seek.sysmo-db.org/presentations/38\n",
    "eval13<- as.Date(\"2013-03-01\")  # https://seek.sysmo-db.org/presentations/85\n",
    "dps_date<- as.Date(\"2011-06-01\")\n",
    "\n",
    "eval1<-eval11\n",
    "eval2<-eval12\n",
    "\n",
    "anon_names <- read.csv(file=\"/Users/kristian/Dropbox/case_sysmo/Data/project_names_anon.csv\",sep=\",\",head=TRUE)\n",
    "anon_names$project_name <- as.factor(anon_names$project_name)\n",
    "anon_names$project_name_anon <- as.factor(anon_names$project_name_anon)\n"
   ]
  },
  {
   "cell_type": "code",
   "execution_count": 24,
   "metadata": {
    "collapsed": false
   },
   "outputs": [
    {
     "data": {
      "text/html": [
       "<table>\n",
       "<thead><tr><th></th><th scope=col>project_name</th><th scope=col>project_name_anon</th></tr></thead>\n",
       "<tbody>\n",
       "\t<tr><th scope=row>1</th><td>SUMO</td><td>BULLET</td></tr>\n",
       "\t<tr><th scope=row>2</th><td>SysMO-LAB</td><td>BURBIDGE </td></tr>\n",
       "\t<tr><th scope=row>3</th><td>COSMIC</td><td>COPELAND </td></tr>\n",
       "\t<tr><th scope=row>4</th><td>MOSES</td><td>DEER-LICK</td></tr>\n",
       "\t<tr><th scope=row>5</th><td>BaCell-SysMO</td><td>LEO</td></tr>\n",
       "\t<tr><th scope=row>6</th><td>SulfoSys</td><td>MARKARIAN</td></tr>\n",
       "\t<tr><th scope=row>7</th><td>PSYSMO</td><td>ROBERT </td></tr>\n",
       "\t<tr><th scope=row>8</th><td>TRANSLUCENT</td><td>SEYFERT</td></tr>\n",
       "\t<tr><th scope=row>9</th><td>STREAM</td><td>STEPHAN</td></tr>\n",
       "\t<tr><th scope=row>10</th><td>SilicoTryp</td><td>ZWICKY</td></tr>\n",
       "\t<tr><th scope=row>11</th><td>SYSMO DB</td><td>BORRAME</td></tr>\n",
       "\t<tr><th scope=row>12</th><td>Noisy-Strep</td><td>WILD</td></tr>\n",
       "</tbody>\n",
       "</table>\n"
      ],
      "text/latex": [
       "\\begin{tabular}{r|ll}\n",
       "  & project_name & project_name_anon\\\\\n",
       "\\hline\n",
       "\t1 & SUMO & BULLET\\\\\n",
       "\t2 & SysMO-LAB & BURBIDGE \\\\\n",
       "\t3 & COSMIC & COPELAND \\\\\n",
       "\t4 & MOSES & DEER-LICK\\\\\n",
       "\t5 & BaCell-SysMO & LEO\\\\\n",
       "\t6 & SulfoSys & MARKARIAN\\\\\n",
       "\t7 & PSYSMO & ROBERT \\\\\n",
       "\t8 & TRANSLUCENT & SEYFERT\\\\\n",
       "\t9 & STREAM & STEPHAN\\\\\n",
       "\t10 & SilicoTryp & ZWICKY\\\\\n",
       "\t11 & SYSMO DB & BORRAME\\\\\n",
       "\t12 & Noisy-Strep & WILD\\\\\n",
       "\\end{tabular}\n"
      ],
      "text/plain": [
       "   project_name project_name_anon\n",
       "1          SUMO            BULLET\n",
       "2     SysMO-LAB         BURBIDGE \n",
       "3        COSMIC         COPELAND \n",
       "4         MOSES         DEER-LICK\n",
       "5  BaCell-SysMO               LEO\n",
       "6      SulfoSys         MARKARIAN\n",
       "7        PSYSMO           ROBERT \n",
       "8   TRANSLUCENT           SEYFERT\n",
       "9        STREAM           STEPHAN\n",
       "10   SilicoTryp            ZWICKY\n",
       "11     SYSMO DB           BORRAME\n",
       "12  Noisy-Strep              WILD"
      ]
     },
     "execution_count": 24,
     "metadata": {},
     "output_type": "execute_result"
    }
   ],
   "source": [
    "anon_names"
   ]
  },
  {
   "cell_type": "markdown",
   "metadata": {},
   "source": [
    "## Descriptive information about the Collaborations\n",
    "\n",
    "What are the collaborations composition in terms of demographics?\n",
    "\n",
    "We can see that the collaboration are very similar in geographical localtion and in Languages\n",
    "\n",
    "\n",
    "We measured collaboration diversity using 2 metrics: Location and Language. Language referfers to language diversity we used the country in which the collaborators reside to define their langauge. Location refers to the institution the collaborators belong to. There could be collaborators living in the same country but belonging to different institutions. We use two differement approaches for the measuremente: Shannon diversity and Gini diversity.\n",
    "\n",
    "\n",
    "- loc_shannon\n",
    "- loc_gini \n",
    "- lang_shannon\n",
    "- lang_gini\n",
    "\n",
    "We are available also to count the number of files they own and the average size of those files.\n",
    "\n",
    "- siz\n",
    "- Freq\n",
    "\n",
    "\n",
    "> **Most of these function only deal with DataFiles and do not include Models or Sops**"
   ]
  },
  {
   "cell_type": "code",
   "execution_count": 25,
   "metadata": {
    "collapsed": false
   },
   "outputs": [
    {
     "name": "stderr",
     "output_type": "stream",
     "text": [
      "Loading required package: permute\n",
      "Loading required package: lattice\n",
      "This is vegan 2.3-3\n",
      "reldist: Relative Distribution Methods\n",
      "Version 1.6-4 created on 2015-01-01.\n",
      "copyright (c) 2003, Mark S. Handcock, University of California-Los Angeles\n",
      " For citation information, type citation(\"reldist\").\n",
      " Type help(package=\"reldist\") to get started.\n",
      "\n"
     ]
    },
    {
     "name": "stdout",
     "output_type": "stream",
     "text": [
      "[1] \"I need contributor_id guessDiscipline\"\n",
      "           name project_id    siz Freq id loc_shannon  loc_gini lang_shannon\n",
      "1  BaCell-SysMO          1  53760   69  1    4.644811 0.2852961     4.701184\n",
      "2        COSMIC          2  79360   50  2    4.135367 0.1178571     4.099547\n",
      "3         MOSES          8 139620   10  8    3.090360 0.2169811     3.017447\n",
      "4   Noisy-Strep         15  53760    3 15    1.055381 0.1565996     1.021728\n",
      "5        PSYSMO          6  12135    9  6    3.434429 0.3671432     3.583476\n",
      "6    SilicoTryp         14  53760   12 14    3.357855 0.1548387     3.338622\n",
      "7        STREAM         10 609792    8 10    1.820778 0.2735043     1.894710\n",
      "8      SulfoSys         11 872849    6 11    2.491183 0.2136095     2.466172\n",
      "9          SUMO          3  78336   38  3    3.964531 0.2699507     4.011719\n",
      "10     SysMO DB         12 105728   34 12    2.826948 0.2686335     2.941424\n",
      "11    SysMO-LAB          5  74496   46  5    4.885787 0.2598015     4.950155\n",
      "12  TRANSLUCENT          9  55969  717  9    2.432678 0.4275114     2.625377\n",
      "   lang_gini project_name\n",
      "1  0.2177370 BaCell-SysMO\n",
      "2  0.1406250       COSMIC\n",
      "3  0.2870370        MOSES\n",
      "4  0.2028986  Noisy-Strep\n",
      "5  0.2102056       PSYSMO\n",
      "6  0.1702128   SilicoTryp\n",
      "7  0.1723356       STREAM\n",
      "8  0.2168675     SulfoSys\n",
      "9  0.2100000         SUMO\n",
      "10 0.1689189     SysMO DB\n",
      "11 0.1825397    SysMO-LAB\n",
      "12 0.2797619  TRANSLUCENT\n"
     ]
    }
   ],
   "source": [
    "print(projectContBySize())"
   ]
  },
  {
   "cell_type": "markdown",
   "metadata": {},
   "source": [
    "There was binary information from the interviews that we can relate to the database:\n",
    "\n",
    "- Interview: Did we interview anybody from the collaboration?\n",
    "- Fund: where they fundded for a second round\n",
    "- OpenShare: Did they interviewees said that they share data openly\n",
    "- Activity: ???"
   ]
  },
  {
   "cell_type": "code",
   "execution_count": 26,
   "metadata": {
    "collapsed": false
   },
   "outputs": [
    {
     "name": "stdout",
     "output_type": "stream",
     "text": [
      "   id          name interview  fund openShare activity lifetime  project_name\n",
      "1   1  BaCell-SysMO      TRUE  TRUE      TRUE    FALSE        3  BaCell-SysMO\n",
      "2   2        COSMIC     FALSE  TRUE      TRUE    FALSE        3        COSMIC\n",
      "3   3          SUMO      TRUE  TRUE      TRUE    FALSE        3          SUMO\n",
      "4   4      KOSMOBAC     FALSE FALSE     FALSE    FALSE        1      KOSMOBAC\n",
      "5   5     SysMO-LAB      TRUE  TRUE     FALSE    FALSE        3     SysMO-LAB\n",
      "6   6        PSYSMO     FALSE FALSE     FALSE    FALSE        1        PSYSMO\n",
      "7   7        SCaRAB     FALSE FALSE     FALSE    FALSE        1        SCaRAB\n",
      "8   8         MOSES      TRUE FALSE      TRUE    FALSE        1         MOSES\n",
      "9   9   TRANSLUCENT     FALSE  TRUE     FALSE    FALSE        1   TRANSLUCENT\n",
      "10 10        STREAM     FALSE FALSE     FALSE    FALSE        1        STREAM\n",
      "11 11      SulfoSys     FALSE FALSE     FALSE    FALSE        1      SulfoSys\n",
      "12 12      SysMO DB     FALSE  TRUE     FALSE    FALSE        3      SysMO DB\n",
      "13 13 SysMO Funders     FALSE  TRUE     FALSE    FALSE        3 SysMO Funders\n",
      "14 14    SilicoTryp      TRUE     N      TRUE    FALSE        2    SilicoTryp\n",
      "15 15   Noisy-Strep     FALSE     N      TRUE    FALSE        2   Noisy-Strep\n"
     ]
    }
   ],
   "source": [
    "\n",
    "# (head(a$data))\n",
    "# a$graphVerDistribution()\n",
    "\n",
    "print(getProjInfo())\n",
    "\n",
    "\n",
    "\n",
    "# print(a$describeContr())\n",
    "# users <- UsersTable$new()\n",
    "# users$loadtable()\n",
    "# head(users$data)"
   ]
  },
  {
   "cell_type": "code",
   "execution_count": null,
   "metadata": {
    "collapsed": false
   },
   "outputs": [],
   "source": []
  },
  {
   "cell_type": "code",
   "execution_count": 27,
   "metadata": {
    "collapsed": false
   },
   "outputs": [
    {
     "name": "stdout",
     "output_type": "stream",
     "text": [
      "[1] \"I need contributor_id guessDiscipline\"\n",
      "   project_name project_id Freq.x Freq.y Freq total         name count lifetime\n",
      "1  BaCell-SysMO          1     69     10   15    94 BaCell-SysMO    25        3\n",
      "2        COSMIC          2     50     11   20    81       COSMIC    22        3\n",
      "3         MOSES          8     10      3   11    24        MOSES     7        3\n",
      "4   Noisy-Strep         15      3      0    0     3  Noisy-Strep    NA        3\n",
      "5        PSYSMO          6      9      0    0     9       PSYSMO    12        3\n",
      "6    SilicoTryp         14     12      6    8    26   SilicoTryp    NA        3\n",
      "7        STREAM         10      8      2   16    26       STREAM    10        3\n",
      "8      SulfoSys         11      6      1    5    12     SulfoSys    15        3\n",
      "9          SUMO          3     38     13   17    68         SUMO    17        3\n",
      "10     SysMO DB         12     34     26    7    67     SysMO DB     7        3\n",
      "11    SysMO-LAB          5     46     13   17    76    SysMO-LAB    12        3\n",
      "12  TRANSLUCENT          9    717      1    7   725  TRANSLUCENT    13        3\n",
      "        active\n",
      "1  0.022831050\n",
      "2  0.020091324\n",
      "3  0.006392694\n",
      "4           NA\n",
      "5  0.010958904\n",
      "6           NA\n",
      "7  0.009132420\n",
      "8  0.013698630\n",
      "9  0.015525114\n",
      "10 0.006392694\n",
      "11 0.010958904\n",
      "12 0.011872146\n",
      "[1] \"person_id already exist\"\n",
      "    project_name count     actFreq lifetime\n",
      " 1: BaCell-SysMO    10 0.009132420        3\n",
      " 2:       COSMIC     2 0.001826484        3\n",
      " 3:     KOSMOBAC     1 0.000913242        3\n",
      " 4:        MOSES     5 0.004566210        3\n",
      " 5:       PSYSMO     4 0.003652968        3\n",
      " 6:       STREAM     3 0.002739726        3\n",
      " 7:     SulfoSys     1 0.000913242        3\n",
      " 8:         SUMO     8 0.007305936        3\n",
      " 9:     SysMO DB     4 0.003652968        3\n",
      "10:    SysMO-LAB     3 0.002739726        3\n",
      "    project_name count     actFreq lifetime participants total\n",
      " 1: BaCell-SysMO    10 0.009132420        3           25    94\n",
      " 2:       COSMIC     2 0.001826484        3           22    81\n",
      " 3:     KOSMOBAC     1 0.000913242        3           NA    NA\n",
      " 4:        MOSES     5 0.004566210        3            7    24\n",
      " 5:       PSYSMO     4 0.003652968        3           12     9\n",
      " 6:       STREAM     3 0.002739726        3           10    26\n",
      " 7:     SulfoSys     1 0.000913242        3           15    12\n",
      " 8:         SUMO     8 0.007305936        3           17    68\n",
      " 9:     SysMO DB     4 0.000000000        3            7    67\n",
      "10:    SysMO-LAB     3 0.002739726        3           12    76\n",
      "[1] \"--------\"\n"
     ]
    }
   ],
   "source": [
    "\n",
    "\n",
    "print(getProjectMore())\n",
    "print(\"--------\")\n",
    "\n",
    "# pro_data<-getProjectMore()\n",
    "\n",
    "# print(names(pro_data))"
   ]
  },
  {
   "cell_type": "markdown",
   "metadata": {},
   "source": [
    "### Get projects summary by project\n",
    "\n",
    "Here we are decomposing a large function called getprojectmore using logs\n",
    "\n",
    "1. First step is getting data and summarising by project\n"
   ]
  },
  {
   "cell_type": "code",
   "execution_count": 28,
   "metadata": {
    "collapsed": false
   },
   "outputs": [
    {
     "name": "stdout",
     "output_type": "stream",
     "text": [
      "[1] \"data.frame\"\n",
      "[1] 82876\n",
      "[1] \"data.frame\"\n",
      "[1] 2011\n",
      "Source: local data frame [12 x 4]\n",
      "\n",
      "   project_name events_n contributors_n even_cont\n",
      "         (fctr)    (int)          (int)     (dbl)\n",
      "1  BaCell-SysMO       77              8  9.625000\n",
      "2        COSMIC       62              8  7.750000\n",
      "3         MOSES        8              4  2.000000\n",
      "4   Noisy-Strep        3              1  3.000000\n",
      "5        PSYSMO        8              1  8.000000\n",
      "6    SilicoTryp       29              6  4.833333\n",
      "7        STREAM       12              1 12.000000\n",
      "8      SulfoSys        6              1  6.000000\n",
      "9          SUMO       23              9  2.555556\n",
      "10     SysMO DB       95              5 19.000000\n",
      "11    SysMO-LAB       56             15  3.733333\n",
      "12  TRANSLUCENT       10              2  5.000000\n"
     ]
    },
    {
     "data": {
      "text/html": [
       "<ol class=list-inline>\n",
       "\t<li>'project_id'</li>\n",
       "\t<li>'id'</li>\n",
       "\t<li>'action'</li>\n",
       "\t<li>'format'</li>\n",
       "\t<li>'activity_loggable_type'</li>\n",
       "\t<li>'activity_loggable_id'</li>\n",
       "\t<li>'culprit_type'</li>\n",
       "\t<li>'contributor_id'</li>\n",
       "\t<li>'referenced_type'</li>\n",
       "\t<li>'created_at'</li>\n",
       "\t<li>'updated_at'</li>\n",
       "\t<li>'http_referer'</li>\n",
       "\t<li>'user_agent'</li>\n",
       "\t<li>'ncreated_at'</li>\n",
       "\t<li>'nupdated_at'</li>\n",
       "\t<li>'project_name'</li>\n",
       "</ol>\n"
      ],
      "text/latex": [
       "\\begin{enumerate*}\n",
       "\\item 'project_id'\n",
       "\\item 'id'\n",
       "\\item 'action'\n",
       "\\item 'format'\n",
       "\\item 'activity_loggable_type'\n",
       "\\item 'activity_loggable_id'\n",
       "\\item 'culprit_type'\n",
       "\\item 'contributor_id'\n",
       "\\item 'referenced_type'\n",
       "\\item 'created_at'\n",
       "\\item 'updated_at'\n",
       "\\item 'http_referer'\n",
       "\\item 'user_agent'\n",
       "\\item 'ncreated_at'\n",
       "\\item 'nupdated_at'\n",
       "\\item 'project_name'\n",
       "\\end{enumerate*}\n"
      ],
      "text/markdown": [
       "1. 'project_id'\n",
       "2. 'id'\n",
       "3. 'action'\n",
       "4. 'format'\n",
       "5. 'activity_loggable_type'\n",
       "6. 'activity_loggable_id'\n",
       "7. 'culprit_type'\n",
       "8. 'contributor_id'\n",
       "9. 'referenced_type'\n",
       "10. 'created_at'\n",
       "11. 'updated_at'\n",
       "12. 'http_referer'\n",
       "13. 'user_agent'\n",
       "14. 'ncreated_at'\n",
       "15. 'nupdated_at'\n",
       "16. 'project_name'\n",
       "\n",
       "\n"
      ],
      "text/plain": [
       " [1] \"project_id\"             \"id\"                     \"action\"                \n",
       " [4] \"format\"                 \"activity_loggable_type\" \"activity_loggable_id\"  \n",
       " [7] \"culprit_type\"           \"contributor_id\"         \"referenced_type\"       \n",
       "[10] \"created_at\"             \"updated_at\"             \"http_referer\"          \n",
       "[13] \"user_agent\"             \"ncreated_at\"            \"nupdated_at\"           \n",
       "[16] \"project_name\"          "
      ]
     },
     "execution_count": 28,
     "metadata": {},
     "output_type": "execute_result"
    },
    {
     "name": "stdout",
     "output_type": "stream",
     "text": [
      "   project_id Freq.x Freq.y Freq total         name project_name\n",
      "1           1     69     10   15    94 BaCell-SysMO BaCell-SysMO\n",
      "2          10      8      2   16    26       STREAM       STREAM\n",
      "3          11      6      1    5    12     SulfoSys     SulfoSys\n",
      "4          12     34     26    7    67     SysMO DB     SysMO DB\n",
      "5          14     12      6    8    26   SilicoTryp   SilicoTryp\n",
      "6          15      3      0    0     3  Noisy-Strep  Noisy-Strep\n",
      "7           2     50     11   20    81       COSMIC       COSMIC\n",
      "8           3     38     13   17    68         SUMO         SUMO\n",
      "9           5     46     13   17    76    SysMO-LAB    SysMO-LAB\n",
      "10          6      9      0    0     9       PSYSMO       PSYSMO\n",
      "11          8     10      3   11    24        MOSES        MOSES\n",
      "12          9    717      1    7   725  TRANSLUCENT  TRANSLUCENT\n"
     ]
    }
   ],
   "source": [
    "  projs <- processCsv('projects')\n",
    "  data  <- processCsv('data_files_projects')\n",
    "  pdata<-as.data.frame(table(data$project_id))\n",
    "  sops  <- processCsv('sops_projects')\n",
    "  psops<-as.data.frame(table(sops$project_id))\n",
    "  mods  <- processCsv('models_projects')\n",
    "  pmods<-as.data.frame(table(mods$project_id))\n",
    "\n",
    "  a<-merge(pdata,pmods, by=\"Var1\", all.x=TRUE)\n",
    "  b<-merge(a,psops, by=\"Var1\", all.x=TRUE)\n",
    "  b[is.na(b)] <- 0\n",
    "  b$total<-(b$Freq.x+b$Freq.y+b$Freq)\n",
    "\n",
    "  colnames(b)[1]   <- \"project_id\"\n",
    "  colnames(projs)[1]   <- \"project_id\"\n",
    "  projs$project_name<-projs$name\n",
    "  r<-merge(b,projs, by=\"project_id\", all.x=TRUE)\n",
    "\n",
    "## ---------------- using logs\n",
    "\n",
    "logsstable<- LogsTable$new()\n",
    "logsstable$loadtable()\n",
    "logsstable$getLogBy()\n",
    "ds<-logsstable$data\n",
    "print(ds %>% group_by(project_name) %>% filter(action == \"create\" & \n",
    "                                               (activity_loggable_type == \"Sop\" | \n",
    "                                               activity_loggable_type == \"Model\" | \n",
    "                                               activity_loggable_type == \"DataFile\")) %>%\n",
    "      summarise(events_n = n(), \n",
    "                contributors_n = n_distinct(contributor_id, na_rm = FALSE)) %>% \n",
    "      mutate(even_cont = events_n/contributors_n))\n",
    "                                                                                                  \n",
    "names(ds)\n",
    "print(r)"
   ]
  },
  {
   "cell_type": "markdown",
   "metadata": {},
   "source": [
    "> differences in number of **events_n** to **total** could be related to the discrepancies on the ownership of the files\n",
    "\n",
    "2. The second step is to get users information  to obtain **number of collaborators** and **how active they have been**\n",
    "\n",
    "\n",
    "- count.x: Number of collaborators during the first year.\n",
    "- active: Number of collaborator divided during the projects lifetime. I don't know why"
   ]
  },
  {
   "cell_type": "code",
   "execution_count": 29,
   "metadata": {
    "collapsed": false
   },
   "outputs": [
    {
     "name": "stdout",
     "output_type": "stream",
     "text": [
      "[1] \"I need contributor_id guessDiscipline\"\n",
      "   project_name project_id Freq.x Freq.y Freq total         name count lifetime\n",
      "1  BaCell-SysMO          1     69     10   15    94 BaCell-SysMO    25        3\n",
      "2        COSMIC          2     50     11   20    81       COSMIC    22        3\n",
      "3         MOSES          8     10      3   11    24        MOSES     7        3\n",
      "4   Noisy-Strep         15      3      0    0     3  Noisy-Strep    NA        3\n",
      "5        PSYSMO          6      9      0    0     9       PSYSMO    12        3\n",
      "6    SilicoTryp         14     12      6    8    26   SilicoTryp    NA        3\n",
      "7        STREAM         10      8      2   16    26       STREAM    10        3\n",
      "8      SulfoSys         11      6      1    5    12     SulfoSys    15        3\n",
      "9          SUMO          3     38     13   17    68         SUMO    17        3\n",
      "10     SysMO DB         12     34     26    7    67     SysMO DB     7        3\n",
      "11    SysMO-LAB          5     46     13   17    76    SysMO-LAB    12        3\n",
      "12  TRANSLUCENT          9    717      1    7   725  TRANSLUCENT    13        3\n",
      "        active\n",
      "1  0.022831050\n",
      "2  0.020091324\n",
      "3  0.006392694\n",
      "4           NA\n",
      "5  0.010958904\n",
      "6           NA\n",
      "7  0.009132420\n",
      "8  0.013698630\n",
      "9  0.015525114\n",
      "10 0.006392694\n",
      "11 0.010958904\n",
      "12 0.011872146\n",
      "[1] \"I need contributor_id guessDiscipline\"\n"
     ]
    },
    {
     "data": {
      "text/html": [
       "<table>\n",
       "<thead><tr><th></th><th scope=col>project_name</th><th scope=col>collb_n</th><th scope=col>lifetime</th><th scope=col>active</th></tr></thead>\n",
       "<tbody>\n",
       "\t<tr><th scope=row>1</th><td>BaCell-SysMO</td><td>25</td><td>3</td><td>8.333333</td></tr>\n",
       "\t<tr><th scope=row>2</th><td>COSMIC</td><td>22</td><td>3</td><td>7.333333</td></tr>\n",
       "\t<tr><th scope=row>3</th><td>KOSMOBAC</td><td>26</td><td>1</td><td>26</td></tr>\n",
       "\t<tr><th scope=row>4</th><td>MOSES</td><td>7</td><td>1</td><td>7</td></tr>\n",
       "\t<tr><th scope=row>5</th><td>PSYSMO</td><td>12</td><td>1</td><td>12</td></tr>\n",
       "\t<tr><th scope=row>6</th><td>SCaRAB</td><td>5</td><td>1</td><td>5</td></tr>\n",
       "\t<tr><th scope=row>7</th><td>STREAM</td><td>10</td><td>1</td><td>10</td></tr>\n",
       "\t<tr><th scope=row>8</th><td>SulfoSys</td><td>15</td><td>1</td><td>15</td></tr>\n",
       "\t<tr><th scope=row>9</th><td>SUMO</td><td>17</td><td>3</td><td>5.666667</td></tr>\n",
       "\t<tr><th scope=row>10</th><td>SysMO DB</td><td>7</td><td>3</td><td>2.333333</td></tr>\n",
       "\t<tr><th scope=row>11</th><td>SysMO-LAB</td><td>12</td><td>3</td><td>4</td></tr>\n",
       "\t<tr><th scope=row>12</th><td>TRANSLUCENT</td><td>13</td><td>1</td><td>13</td></tr>\n",
       "\t<tr><th scope=row>13</th><td>NA</td><td>6</td><td>3</td><td>2</td></tr>\n",
       "</tbody>\n",
       "</table>\n"
      ],
      "text/latex": [
       "\\begin{tabular}{r|llll}\n",
       "  & project_name & collb_n & lifetime & active\\\\\n",
       "\\hline\n",
       "\t1 & BaCell-SysMO & 25 & 3 & 8.333333\\\\\n",
       "\t2 & COSMIC & 22 & 3 & 7.333333\\\\\n",
       "\t3 & KOSMOBAC & 26 & 1 & 26\\\\\n",
       "\t4 & MOSES & 7 & 1 & 7\\\\\n",
       "\t5 & PSYSMO & 12 & 1 & 12\\\\\n",
       "\t6 & SCaRAB & 5 & 1 & 5\\\\\n",
       "\t7 & STREAM & 10 & 1 & 10\\\\\n",
       "\t8 & SulfoSys & 15 & 1 & 15\\\\\n",
       "\t9 & SUMO & 17 & 3 & 5.666667\\\\\n",
       "\t10 & SysMO DB & 7 & 3 & 2.333333\\\\\n",
       "\t11 & SysMO-LAB & 12 & 3 & 4\\\\\n",
       "\t12 & TRANSLUCENT & 13 & 1 & 13\\\\\n",
       "\t13 & NA & 6 & 3 & 2\\\\\n",
       "\\end{tabular}\n"
      ],
      "text/plain": [
       "Source: local data frame [13 x 4]\n",
       "\n",
       "   project_name collb_n lifetime    active\n",
       "         (fctr)   (int)    (dbl)     (dbl)\n",
       "1  BaCell-SysMO      25        3  8.333333\n",
       "2        COSMIC      22        3  7.333333\n",
       "3      KOSMOBAC      26        1 26.000000\n",
       "4         MOSES       7        1  7.000000\n",
       "5        PSYSMO      12        1 12.000000\n",
       "6        SCaRAB       5        1  5.000000\n",
       "7        STREAM      10        1 10.000000\n",
       "8      SulfoSys      15        1 15.000000\n",
       "9          SUMO      17        3  5.666667\n",
       "10     SysMO DB       7        3  2.333333\n",
       "11    SysMO-LAB      12        3  4.000000\n",
       "12  TRANSLUCENT      13        1 13.000000\n",
       "13           NA       6        3  2.000000"
      ]
     },
     "execution_count": 29,
     "metadata": {},
     "output_type": "execute_result"
    },
    {
     "ename": "ERROR",
     "evalue": "Error in print(new_fr): object 'new_fr' not found\n",
     "output_type": "error",
     "traceback": [
      "Error in print(new_fr): object 'new_fr' not found\n"
     ]
    }
   ],
   "source": [
    "# users<-processCsv(\"users\")\n",
    "# users<-joinAssoc(users)\n",
    "users <-getMembers(0) \n",
    "\n",
    "users<-users[users$ncreated_at <= \"2010-01-01\",]\n",
    "library(data.table)\n",
    "\n",
    "ds <- as.data.table(users)\n",
    "setkeyv(ds, cols=c(\"project_name\"))\n",
    "ds <- ds[, list(count=.N), by=c(\"project_name\")]\n",
    "\n",
    "r<-merge(r,ds, by=\"project_name\", all.x=TRUE)\n",
    "\n",
    "# r$lifetime<-c(3,3,3,1,3,1,3,3,3,3,3,3)\n",
    "# r$lifetime<-c(3,3,3,3,3,3,3,3,3,3,3)\n",
    "r$lifetime<-3\n",
    "# r$active<-(r$total/((r$count/sum(r$count))*r$lifetime))\n",
    "r$active<-(r$count/(365*r$lifetime))\n",
    "\n",
    "\n",
    "print(r)\n",
    "\n",
    "\n",
    "## --- The new way fixing\n",
    "users <-getMembers(0) \n",
    "new_fr_1 <- users %>% group_by(project_name) %>%\n",
    "      filter(ncreated_at <= \"2010-01-01\") %>%\n",
    "      summarise(collb_n = n())\n",
    "new_fr_1$lifetime<-c(3,3,1,1,1,1,1,1,3,3,3,1,3)\n",
    "new_fr_1 %>% mutate(active=collb_n/(lifetime))\n",
    "print(new_fr)\n",
    "\n",
    "\n",
    "\n",
    "\n"
   ]
  },
  {
   "cell_type": "code",
   "execution_count": 30,
   "metadata": {
    "collapsed": false
   },
   "outputs": [
    {
     "name": "stdout",
     "output_type": "stream",
     "text": [
      "[1] \"person_id already exist\"\n",
      "    project_name count     actFreq lifetime\n",
      " 1: BaCell-SysMO    10 0.009132420        3\n",
      " 2:       COSMIC     2 0.001826484        3\n",
      " 3:     KOSMOBAC     1 0.000913242        3\n",
      " 4:        MOSES     5 0.004566210        3\n",
      " 5:       PSYSMO     4 0.003652968        3\n",
      " 6:       STREAM     3 0.002739726        3\n",
      " 7:     SulfoSys     1 0.000913242        3\n",
      " 8:         SUMO     8 0.007305936        3\n",
      " 9:     SysMO DB     4 0.003652968        3\n",
      "10:    SysMO-LAB     3 0.002739726        3\n",
      "    project_name count     actFreq lifetime participants total\n",
      " 1: BaCell-SysMO    10 0.009132420        3           25    94\n",
      " 2:       COSMIC     2 0.001826484        3           22    81\n",
      " 3:     KOSMOBAC     1 0.000913242        3           NA    NA\n",
      " 4:        MOSES     5 0.004566210        3            7    24\n",
      " 5:       PSYSMO     4 0.003652968        3           12     9\n",
      " 6:       STREAM     3 0.002739726        3           10    26\n",
      " 7:     SulfoSys     1 0.000913242        3           15    12\n",
      " 8:         SUMO     8 0.007305936        3           17    68\n",
      " 9:     SysMO DB     4 0.000000000        3            7    67\n",
      "10:    SysMO-LAB     3 0.002739726        3           12    76\n",
      "[1] \"person_id already exist\"\n"
     ]
    },
    {
     "name": "stderr",
     "output_type": "stream",
     "text": [
      "Joining by: \"project_name\"\n"
     ]
    },
    {
     "data": {
      "text/html": [
       "<table>\n",
       "<thead><tr><th></th><th scope=col>project_name</th><th scope=col>collb_n</th><th scope=col>lifetime</th><th scope=col>assets_n</th><th scope=col>ave_cont_time</th></tr></thead>\n",
       "<tbody>\n",
       "\t<tr><th scope=row>1</th><td>BaCell-SysMO</td><td>25</td><td>3</td><td>90</td><td>30</td></tr>\n",
       "\t<tr><th scope=row>2</th><td>COSMIC</td><td>22</td><td>3</td><td>58</td><td>19.33333</td></tr>\n",
       "\t<tr><th scope=row>3</th><td>KOSMOBAC</td><td>26</td><td>1</td><td>25</td><td>25</td></tr>\n",
       "\t<tr><th scope=row>4</th><td>MOSES</td><td>7</td><td>1</td><td>24</td><td>24</td></tr>\n",
       "\t<tr><th scope=row>5</th><td>PSYSMO</td><td>12</td><td>1</td><td>15</td><td>15</td></tr>\n",
       "\t<tr><th scope=row>6</th><td>STREAM</td><td>10</td><td>1</td><td>26</td><td>26</td></tr>\n",
       "\t<tr><th scope=row>7</th><td>SulfoSys</td><td>15</td><td>1</td><td>11</td><td>11</td></tr>\n",
       "\t<tr><th scope=row>8</th><td>SUMO</td><td>17</td><td>3</td><td>58</td><td>19.33333</td></tr>\n",
       "\t<tr><th scope=row>9</th><td>SysMO DB</td><td>7</td><td>3</td><td>67</td><td>22.33333</td></tr>\n",
       "\t<tr><th scope=row>10</th><td>SysMO-LAB</td><td>12</td><td>3</td><td>40</td><td>13.33333</td></tr>\n",
       "\t<tr><th scope=row>11</th><td>TRANSLUCENT</td><td>13</td><td>1</td><td>10</td><td>10</td></tr>\n",
       "</tbody>\n",
       "</table>\n"
      ],
      "text/latex": [
       "\\begin{tabular}{r|lllll}\n",
       "  & project_name & collb_n & lifetime & assets_n & ave_cont_time\\\\\n",
       "\\hline\n",
       "\t1 & BaCell-SysMO & 25 & 3 & 90 & 30\\\\\n",
       "\t2 & COSMIC & 22 & 3 & 58 & 19.33333\\\\\n",
       "\t3 & KOSMOBAC & 26 & 1 & 25 & 25\\\\\n",
       "\t4 & MOSES & 7 & 1 & 24 & 24\\\\\n",
       "\t5 & PSYSMO & 12 & 1 & 15 & 15\\\\\n",
       "\t6 & STREAM & 10 & 1 & 26 & 26\\\\\n",
       "\t7 & SulfoSys & 15 & 1 & 11 & 11\\\\\n",
       "\t8 & SUMO & 17 & 3 & 58 & 19.33333\\\\\n",
       "\t9 & SysMO DB & 7 & 3 & 67 & 22.33333\\\\\n",
       "\t10 & SysMO-LAB & 12 & 3 & 40 & 13.33333\\\\\n",
       "\t11 & TRANSLUCENT & 13 & 1 & 10 & 10\\\\\n",
       "\\end{tabular}\n"
      ],
      "text/plain": [
       "Source: local data frame [11 x 5]\n",
       "\n",
       "   project_name collb_n lifetime assets_n ave_cont_time\n",
       "         (fctr)   (int)    (dbl)    (int)         (dbl)\n",
       "1  BaCell-SysMO      25        3       90      30.00000\n",
       "2        COSMIC      22        3       58      19.33333\n",
       "3      KOSMOBAC      26        1       25      25.00000\n",
       "4         MOSES       7        1       24      24.00000\n",
       "5        PSYSMO      12        1       15      15.00000\n",
       "6        STREAM      10        1       26      26.00000\n",
       "7      SulfoSys      15        1       11      11.00000\n",
       "8          SUMO      17        3       58      19.33333\n",
       "9      SysMO DB       7        3       67      22.33333\n",
       "10    SysMO-LAB      12        3       40      13.33333\n",
       "11  TRANSLUCENT      13        1       10      10.00000"
      ]
     },
     "execution_count": 30,
     "metadata": {},
     "output_type": "execute_result"
    },
    {
     "name": "stdout",
     "output_type": "stream",
     "text": [
      "Source: local data frame [11 x 4]\n",
      "\n",
      "   project_name collb_n lifetime assets_n\n",
      "         (fctr)   (int)    (dbl)    (int)\n",
      "1  BaCell-SysMO      25        3       90\n",
      "2        COSMIC      22        3       58\n",
      "3      KOSMOBAC      26        1       25\n",
      "4         MOSES       7        1       24\n",
      "5        PSYSMO      12        1       15\n",
      "6        STREAM      10        1       26\n",
      "7      SulfoSys      15        1       11\n",
      "8          SUMO      17        3       58\n",
      "9      SysMO DB       7        3       67\n",
      "10    SysMO-LAB      12        3       40\n",
      "11  TRANSLUCENT      13        1       10\n"
     ]
    }
   ],
   "source": [
    "# ------------\n",
    "\n",
    "# careful these are different. particualry what you are bining is not the same. \n",
    "# chek it out date of what? you want to add evertyinhg including uploads\n",
    "\n",
    "\n",
    "  resc<-getAllresc(0)\n",
    "  resc<-joinPerson(resc)\n",
    "  # resc<-joinAssoc(resc)\n",
    "\n",
    "\n",
    "  df <- as.data.table(resc)\n",
    "\n",
    "  df <- df[ which(df$ncreated_at<= eval11), ]\n",
    "  # df <- df[ which(df$ncreated_at<= \"2010-01-01\" & mydata$age > 65), ]\n",
    "\n",
    "\n",
    "  setkeyv(df, cols=c('ncreated_at',\"project_name\"))\n",
    "  df <- df[, list(count=.N), by=c('ncreated_at',\"project_name\")]\n",
    "\n",
    "  df2 <- as.data.table(df)\n",
    "  setkeyv(df2, cols=c(\"project_name\"))\n",
    "  df2 <- df2[, list(count=.N), by=c(\"project_name\")]\n",
    "  df2$actFreq<-0\n",
    "  df2$lifetime<-3\n",
    "  df2$lifetime[df2$project_name == \"SilicoTryp\"]<-2\n",
    "  df2$lifetime[df2$project_name == \"Noisy-Strep\"]<-2\n",
    "\n",
    "  df2$actFreq <- (df2$count)/(df2$lifetime*365)\n",
    "  print(df2)\n",
    "  r$participants<-r$count\n",
    "  df2<-merge(df2,r[c(\"participants\",\"project_name\",\"total\")], by=\"project_name\", all.x=TRUE)\n",
    "  df2$participants[df2$project_name == \"SilicoTryp\"]<-12\n",
    "  df2$participants[df2$project_name == \"Noisy-Strep\"]<-9\n",
    "  df2$actFreq[df2$project_name == \"SysMO DB\"]<-0\n",
    "print(df2)\n",
    "\n",
    "\n",
    "  resc<-getAllresc(0)\n",
    "  resc<-joinPerson(resc)\n",
    "  # resc<-joinAssoc(resc)\n",
    "\n",
    "\n",
    "new_fr <- resc %>% group_by(project_name) %>%\n",
    "#       filter(ncreated_at <= \"2010-01-01\") %>%\n",
    "      summarise(assets_n = n())\n",
    "new_fr = inner_join(new_fr_1,new_fr)\n",
    "new_fr %>% mutate(ave_cont_time=assets_n/(lifetime))\n",
    "print(new_fr)\n",
    "\n"
   ]
  },
  {
   "cell_type": "markdown",
   "metadata": {},
   "source": [
    "#### Using Different Data (Logs)\n",
    "\n",
    "- 'project_name'\n",
    "- 'events_n': Number of created assets by the project\n",
    "- 'contributors_n': Number of contributotrs tothe SDR by project\n",
    "- 'even_cont': Ration of created assets to contrbituor by project **OR** assets per contributor\n",
    "- 'collb_n': Number of collaborators by project\n",
    "- 'lifetime': Project LifeTime\n",
    "- 'active': Ration of collaborator to lifetime by project **Whatfor??**\n",
    "- ave_cont_time: Ration of created assets to lifetime by project **OR** assets per year\n",
    "- res_out_rat: average Research publication per collaborator\n",
    "- res_out_year: average Research publication per year\n",
    "\n",
    "\n",
    "This scripts show the projects summary stats for competitive assets.\n",
    "\n"
   ]
  },
  {
   "cell_type": "code",
   "execution_count": 52,
   "metadata": {
    "collapsed": false
   },
   "outputs": [
    {
     "name": "stdout",
     "output_type": "stream",
     "text": [
      "[1] \"data.frame\"\n",
      "[1] 82876\n",
      "[1] \"data.frame\"\n",
      "[1] 2011\n",
      "[1] \"I need contributor_id guessDiscipline\"\n"
     ]
    },
    {
     "name": "stderr",
     "output_type": "stream",
     "text": [
      "Joining by: \"project_name\"\n",
      "Joining by: \"project_name\"\n"
     ]
    },
    {
     "name": "stdout",
     "output_type": "stream",
     "text": [
      "[1] \"I need contributor_id guessDiscipline\"\n"
     ]
    },
    {
     "name": "stderr",
     "output_type": "stream",
     "text": [
      "Joining by: c(\"project_name\", \"id\", \"name\")\n",
      "Joining by: \"project_name\"\n",
      "Warning message:\n",
      "In inner_join_impl(x, y, by$x, by$y): joining factors with different levels, coercing to character vector"
     ]
    },
    {
     "data": {
      "text/html": [
       "<ol class=list-inline>\n",
       "\t<li>'project_name'</li>\n",
       "\t<li>'pub_n'</li>\n",
       "\t<li>'events_n'</li>\n",
       "\t<li>'contributors_n'</li>\n",
       "\t<li>'even_cont'</li>\n",
       "\t<li>'collb_n'</li>\n",
       "\t<li>'id'</li>\n",
       "\t<li>'name'</li>\n",
       "\t<li>'interview'</li>\n",
       "\t<li>'fund'</li>\n",
       "\t<li>'openShare'</li>\n",
       "\t<li>'activity'</li>\n",
       "\t<li>'lifetime'</li>\n",
       "\t<li>'active'</li>\n",
       "\t<li>'ave_cont_time'</li>\n",
       "\t<li>'ave_cont_time2'</li>\n",
       "\t<li>'ave_cont_time3'</li>\n",
       "\t<li>'traction'</li>\n",
       "\t<li>'project_id'</li>\n",
       "\t<li>'siz'</li>\n",
       "\t<li>'Freq'</li>\n",
       "\t<li>'loc_shannon'</li>\n",
       "\t<li>'loc_gini'</li>\n",
       "\t<li>'lang_shannon'</li>\n",
       "\t<li>'lang_gini'</li>\n",
       "\t<li>'res_out_rat'</li>\n",
       "\t<li>'res_out_year'</li>\n",
       "</ol>\n"
      ],
      "text/latex": [
       "\\begin{enumerate*}\n",
       "\\item 'project_name'\n",
       "\\item 'pub_n'\n",
       "\\item 'events_n'\n",
       "\\item 'contributors_n'\n",
       "\\item 'even_cont'\n",
       "\\item 'collb_n'\n",
       "\\item 'id'\n",
       "\\item 'name'\n",
       "\\item 'interview'\n",
       "\\item 'fund'\n",
       "\\item 'openShare'\n",
       "\\item 'activity'\n",
       "\\item 'lifetime'\n",
       "\\item 'active'\n",
       "\\item 'ave_cont_time'\n",
       "\\item 'ave_cont_time2'\n",
       "\\item 'ave_cont_time3'\n",
       "\\item 'traction'\n",
       "\\item 'project_id'\n",
       "\\item 'siz'\n",
       "\\item 'Freq'\n",
       "\\item 'loc_shannon'\n",
       "\\item 'loc_gini'\n",
       "\\item 'lang_shannon'\n",
       "\\item 'lang_gini'\n",
       "\\item 'res_out_rat'\n",
       "\\item 'res_out_year'\n",
       "\\end{enumerate*}\n"
      ],
      "text/markdown": [
       "1. 'project_name'\n",
       "2. 'pub_n'\n",
       "3. 'events_n'\n",
       "4. 'contributors_n'\n",
       "5. 'even_cont'\n",
       "6. 'collb_n'\n",
       "7. 'id'\n",
       "8. 'name'\n",
       "9. 'interview'\n",
       "10. 'fund'\n",
       "11. 'openShare'\n",
       "12. 'activity'\n",
       "13. 'lifetime'\n",
       "14. 'active'\n",
       "15. 'ave_cont_time'\n",
       "16. 'ave_cont_time2'\n",
       "17. 'ave_cont_time3'\n",
       "18. 'traction'\n",
       "19. 'project_id'\n",
       "20. 'siz'\n",
       "21. 'Freq'\n",
       "22. 'loc_shannon'\n",
       "23. 'loc_gini'\n",
       "24. 'lang_shannon'\n",
       "25. 'lang_gini'\n",
       "26. 'res_out_rat'\n",
       "27. 'res_out_year'\n",
       "\n",
       "\n"
      ],
      "text/plain": [
       " [1] \"project_name\"   \"pub_n\"          \"events_n\"       \"contributors_n\"\n",
       " [5] \"even_cont\"      \"collb_n\"        \"id\"             \"name\"          \n",
       " [9] \"interview\"      \"fund\"           \"openShare\"      \"activity\"      \n",
       "[13] \"lifetime\"       \"active\"         \"ave_cont_time\"  \"ave_cont_time2\"\n",
       "[17] \"ave_cont_time3\" \"traction\"       \"project_id\"     \"siz\"           \n",
       "[21] \"Freq\"           \"loc_shannon\"    \"loc_gini\"       \"lang_shannon\"  \n",
       "[25] \"lang_gini\"      \"res_out_rat\"    \"res_out_year\"  "
      ]
     },
     "execution_count": 52,
     "metadata": {},
     "output_type": "execute_result"
    },
    {
     "data": {
      "text/html": [
       "<table>\n",
       "<thead><tr><th></th><th scope=col>project_name</th><th scope=col>pub_n</th><th scope=col>events_n</th><th scope=col>contributors_n</th><th scope=col>even_cont</th><th scope=col>collb_n</th><th scope=col>id</th><th scope=col>name</th><th scope=col>interview</th><th scope=col>fund</th><th scope=col>ellip.h</th><th scope=col>traction</th><th scope=col>project_id</th><th scope=col>siz</th><th scope=col>Freq</th><th scope=col>loc_shannon</th><th scope=col>loc_gini</th><th scope=col>lang_shannon</th><th scope=col>lang_gini</th><th scope=col>res_out_rat</th><th scope=col>res_out_year</th></tr></thead>\n",
       "<tbody>\n",
       "\t<tr><th scope=row>1</th><td>BaCell-SysMO</td><td>42</td><td>229</td><td>8</td><td>1</td><td>31</td><td>1</td><td>BaCell-SysMO</td><td>TRUE</td><td>TRUE</td><td>⋯</td><td>1</td><td>1</td><td>53760</td><td>69</td><td>4.644811</td><td>0.2852961</td><td>4.701184</td><td>0.217737</td><td>1</td><td>1</td></tr>\n",
       "\t<tr><th scope=row>2</th><td>COSMIC</td><td>7</td><td>125</td><td>10</td><td>1</td><td>30</td><td>2</td><td>COSMIC</td><td>FALSE</td><td>TRUE</td><td>⋯</td><td>1</td><td>2</td><td>79360</td><td>50</td><td>4.135367</td><td>0.1178571</td><td>4.099547</td><td>0.140625</td><td>1</td><td>1</td></tr>\n",
       "\t<tr><th scope=row>3</th><td>MOSES</td><td>5</td><td>52</td><td>4</td><td>1</td><td>9</td><td>8</td><td>MOSES</td><td>TRUE</td><td>FALSE</td><td>⋯</td><td>1</td><td>8</td><td>139620</td><td>10</td><td>3.09036</td><td>0.2169811</td><td>3.017447</td><td>0.287037</td><td>1</td><td>1</td></tr>\n",
       "\t<tr><th scope=row>4</th><td>Noisy-Strep</td><td>20</td><td>9</td><td>1</td><td>1</td><td>8</td><td>15</td><td>Noisy-Strep</td><td>FALSE</td><td>N</td><td>⋯</td><td>1</td><td>15</td><td>53760</td><td>3</td><td>1.055381</td><td>0.1565996</td><td>1.021728</td><td>0.2028986</td><td>1</td><td>1</td></tr>\n",
       "\t<tr><th scope=row>5</th><td>PSYSMO</td><td>4</td><td>11</td><td>1</td><td>1</td><td>12</td><td>6</td><td>PSYSMO</td><td>FALSE</td><td>FALSE</td><td>⋯</td><td>1</td><td>6</td><td>12135</td><td>9</td><td>3.434429</td><td>0.3671432</td><td>3.583476</td><td>0.2102056</td><td>1</td><td>1</td></tr>\n",
       "\t<tr><th scope=row>6</th><td>SilicoTryp</td><td>11</td><td>59</td><td>6</td><td>1</td><td>11</td><td>14</td><td>SilicoTryp</td><td>TRUE</td><td>N</td><td>⋯</td><td>1</td><td>14</td><td>53760</td><td>12</td><td>3.357855</td><td>0.1548387</td><td>3.338622</td><td>0.1702128</td><td>1</td><td>1</td></tr>\n",
       "\t<tr><th scope=row>7</th><td>STREAM</td><td>1</td><td>18</td><td>1</td><td>1</td><td>12</td><td>10</td><td>STREAM</td><td>FALSE</td><td>FALSE</td><td>⋯</td><td>1</td><td>10</td><td>609792</td><td>8</td><td>1.820778</td><td>0.2735043</td><td>1.89471</td><td>0.1723356</td><td>1</td><td>1</td></tr>\n",
       "\t<tr><th scope=row>8</th><td>SulfoSys</td><td>1</td><td>8</td><td>1</td><td>1</td><td>16</td><td>11</td><td>SulfoSys</td><td>FALSE</td><td>FALSE</td><td>⋯</td><td>1</td><td>11</td><td>872849</td><td>6</td><td>2.491183</td><td>0.2136095</td><td>2.466172</td><td>0.2168675</td><td>1</td><td>1</td></tr>\n",
       "\t<tr><th scope=row>9</th><td>SUMO</td><td>15</td><td>95</td><td>11</td><td>1</td><td>29</td><td>3</td><td>SUMO</td><td>TRUE</td><td>TRUE</td><td>⋯</td><td>1</td><td>3</td><td>78336</td><td>38</td><td>3.964531</td><td>0.2699507</td><td>4.011719</td><td>0.21</td><td>1</td><td>1</td></tr>\n",
       "\t<tr><th scope=row>10</th><td>SysMO-LAB</td><td>10</td><td>97</td><td>16</td><td>1</td><td>27</td><td>5</td><td>SysMO-LAB</td><td>TRUE</td><td>TRUE</td><td>⋯</td><td>1</td><td>5</td><td>74496</td><td>46</td><td>4.885787</td><td>0.2598015</td><td>4.950155</td><td>0.1825397</td><td>1</td><td>1</td></tr>\n",
       "\t<tr><th scope=row>11</th><td>TRANSLUCENT</td><td>8</td><td>13</td><td>2</td><td>1</td><td>18</td><td>9</td><td>TRANSLUCENT</td><td>FALSE</td><td>TRUE</td><td>⋯</td><td>1</td><td>9</td><td>55969</td><td>717</td><td>2.432678</td><td>0.4275114</td><td>2.625377</td><td>0.2797619</td><td>1</td><td>1</td></tr>\n",
       "</tbody>\n",
       "</table>\n"
      ],
      "text/latex": [
       "\\begin{tabular}{r|lllllllllllllllllllllllllll}\n",
       "  & project_name & pub_n & events_n & contributors_n & even_cont & collb_n & id & name & interview & fund & ellip.h & traction & project_id & siz & Freq & loc_shannon & loc_gini & lang_shannon & lang_gini & res_out_rat & res_out_year\\\\\n",
       "\\hline\n",
       "\t1 & BaCell-SysMO & 42 & 229 & 8 & 1 & 31 & 1 & BaCell-SysMO & TRUE & TRUE & ⋯ & 1 & 1 & 53760 & 69 & 4.644811 & 0.2852961 & 4.701184 & 0.217737 & 1 & 1\\\\\n",
       "\t2 & COSMIC & 7 & 125 & 10 & 1 & 30 & 2 & COSMIC & FALSE & TRUE & ⋯ & 1 & 2 & 79360 & 50 & 4.135367 & 0.1178571 & 4.099547 & 0.140625 & 1 & 1\\\\\n",
       "\t3 & MOSES & 5 & 52 & 4 & 1 & 9 & 8 & MOSES & TRUE & FALSE & ⋯ & 1 & 8 & 139620 & 10 & 3.09036 & 0.2169811 & 3.017447 & 0.287037 & 1 & 1\\\\\n",
       "\t4 & Noisy-Strep & 20 & 9 & 1 & 1 & 8 & 15 & Noisy-Strep & FALSE & N & ⋯ & 1 & 15 & 53760 & 3 & 1.055381 & 0.1565996 & 1.021728 & 0.2028986 & 1 & 1\\\\\n",
       "\t5 & PSYSMO & 4 & 11 & 1 & 1 & 12 & 6 & PSYSMO & FALSE & FALSE & ⋯ & 1 & 6 & 12135 & 9 & 3.434429 & 0.3671432 & 3.583476 & 0.2102056 & 1 & 1\\\\\n",
       "\t6 & SilicoTryp & 11 & 59 & 6 & 1 & 11 & 14 & SilicoTryp & TRUE & N & ⋯ & 1 & 14 & 53760 & 12 & 3.357855 & 0.1548387 & 3.338622 & 0.1702128 & 1 & 1\\\\\n",
       "\t7 & STREAM & 1 & 18 & 1 & 1 & 12 & 10 & STREAM & FALSE & FALSE & ⋯ & 1 & 10 & 609792 & 8 & 1.820778 & 0.2735043 & 1.89471 & 0.1723356 & 1 & 1\\\\\n",
       "\t8 & SulfoSys & 1 & 8 & 1 & 1 & 16 & 11 & SulfoSys & FALSE & FALSE & ⋯ & 1 & 11 & 872849 & 6 & 2.491183 & 0.2136095 & 2.466172 & 0.2168675 & 1 & 1\\\\\n",
       "\t9 & SUMO & 15 & 95 & 11 & 1 & 29 & 3 & SUMO & TRUE & TRUE & ⋯ & 1 & 3 & 78336 & 38 & 3.964531 & 0.2699507 & 4.011719 & 0.21 & 1 & 1\\\\\n",
       "\t10 & SysMO-LAB & 10 & 97 & 16 & 1 & 27 & 5 & SysMO-LAB & TRUE & TRUE & ⋯ & 1 & 5 & 74496 & 46 & 4.885787 & 0.2598015 & 4.950155 & 0.1825397 & 1 & 1\\\\\n",
       "\t11 & TRANSLUCENT & 8 & 13 & 2 & 1 & 18 & 9 & TRANSLUCENT & FALSE & TRUE & ⋯ & 1 & 9 & 55969 & 717 & 2.432678 & 0.4275114 & 2.625377 & 0.2797619 & 1 & 1\\\\\n",
       "\\end{tabular}\n"
      ],
      "text/plain": [
       "Source: local data frame [11 x 27]\n",
       "\n",
       "   project_name pub_n events_n contributors_n  even_cont collb_n    id\n",
       "          (chr) (int)    (int)          (int)      (dbl)   (int) (int)\n",
       "1  BaCell-SysMO    42      229              8  1.2806873      31     1\n",
       "2        COSMIC     7      125             10 -0.1861582      30     2\n",
       "3         MOSES     5       52              4 -0.1406746       9     8\n",
       "4   Noisy-Strep    20        9              1 -0.5045433       8    15\n",
       "5        PSYSMO     4       11              1 -0.3226090      12     6\n",
       "6    SilicoTryp    11       59              6 -0.4287373      11    14\n",
       "7        STREAM     1       18              1  0.3141612      12    10\n",
       "8      SulfoSys     1        8              1 -0.5955104      16    11\n",
       "9          SUMO    15       95             11 -0.5376222      29     3\n",
       "10    SysMO-LAB    10       97             16 -0.7717593      27     5\n",
       "11  TRANSLUCENT     8       13              2 -0.7319612      18     9\n",
       "Variables not shown: name (fctr), interview (lgl), fund (chr), openShare (lgl),\n",
       "  activity (lgl), lifetime (dbl), active (dbl), ave_cont_time (dbl),\n",
       "  ave_cont_time2 (dbl), ave_cont_time3 (dbl), traction (dbl), project_id (int),\n",
       "  siz (dbl), Freq (int), loc_shannon (dbl), loc_gini (dbl), lang_shannon (dbl),\n",
       "  lang_gini (dbl), res_out_rat (dbl), res_out_year (dbl)"
      ]
     },
     "execution_count": 52,
     "metadata": {},
     "output_type": "execute_result"
    }
   ],
   "source": [
    "logsstable<- LogsTable$new()\n",
    "logsstable$loadtable()\n",
    "logsstable$getLogBy()\n",
    "ds<-logsstable$data\n",
    "ds2 <- ds %>% group_by(project_name) %>% filter(\n",
    "                                               (activity_loggable_type == \"Sop\" | \n",
    "                                               activity_loggable_type == \"Model\" | \n",
    "                                               activity_loggable_type == \"DataFile\")) %>%\n",
    "      summarise(events_n = n(), \n",
    "                contributors_n = n_distinct(contributor_id, na_rm = FALSE)) %>% \n",
    "      mutate(even_cont = scale(events_n/contributors_n, center = TRUE, scale = TRUE))\n",
    "                                                                                                  \n",
    "\n",
    "users <-getMembers(0) \n",
    "new_fr_1 <- users %>% group_by(project_name) %>%\n",
    "#       filter(ncreated_at <= \"2010-01-01\") %>%\n",
    "      summarise(collb_n = n())\n",
    "\n",
    "new_fr = inner_join(ds2,new_fr_1)\n",
    "new_fr = inner_join(new_fr,getProjInfo())\n",
    "\n",
    "\n",
    "new_fr <- new_fr %>% mutate(active=scale(collb_n/(lifetime), center = TRUE, scale = TRUE),\n",
    "                           ave_cont_time=scale(events_n/(lifetime), center = TRUE, scale = TRUE),\n",
    "                            ave_cont_time2=((events_n/(lifetime)) - mean(events_n/(lifetime))) / sd(events_n/(lifetime)),\n",
    "                            ave_cont_time3=((events_n/(lifetime))-min((events_n/(lifetime))))/(max((events_n/(lifetime)))-min((events_n/(lifetime)))),\n",
    "                           traction = scale(contributors_n/collb_n, center = TRUE, scale = TRUE))\n",
    "\n",
    "\n",
    "x = inner_join(new_fr,projectContBySize())\n",
    "\n",
    "\n",
    "pubdata <- read.csv(file=paste0(\"/Users/kristian/Dropbox/case_sysmo/Data/pub_data/output-cleaned.csv\"),sep=\",\",head=TRUE)\n",
    "pubdata_cle = pubdata %>% mutate(date_s = as.character(date_full),\n",
    "    date_n = as.Date((date_s)))\n",
    "r <- pubdata_cle %>% group_by(project_name) %>%\n",
    "    arrange(date_n) %>%\n",
    "    filter(date_n >= \"2010-01-01\") %>%\n",
    "    summarise(pub_n = n())\n",
    "f = inner_join(r,x)\n",
    "\n",
    "f = f %>% mutate(res_out_rat = scale(pub_n/collb_n, center = TRUE, scale = TRUE),\n",
    "                res_out_year = scale(pub_n/lifetime, center = TRUE, scale = TRUE))\n",
    "names(f)\n",
    "f"
   ]
  },
  {
   "cell_type": "markdown",
   "metadata": {},
   "source": [
    "#### Adding sharing\n",
    "- total: number of items from old method\n",
    "- lab: label of open sharing\n",
    "- perc: percentage of dataassets shared"
   ]
  },
  {
   "cell_type": "code",
   "execution_count": 53,
   "metadata": {
    "collapsed": false
   },
   "outputs": [
    {
     "name": "stdout",
     "output_type": "stream",
     "text": [
      "[1] \"data.frame\"\n",
      "[1] 82876\n",
      "[1] \"data.frame\"\n",
      "[1] 2011\n",
      "[1] \"I need contributor_id guessDiscipline\"\n",
      " [1] 12 12 12  2  1  1 12 12  1 12 12 12  1  5 14  1  5 12 12 12 12  1 12 12 14\n",
      "[26] 12  8 12  3\n",
      "[1] \"I need contributor_id guessDiscipline\"\n",
      " [1] 12 12 12  8  3  1  1  1  1  1  1 12  1  1  1  8  8  8  1  8  8 12  8  8 12\n",
      "[26]  8 12 15  1  1 12  1  1  1 12 12  1  1  1  1  1 12  1 12 12  1  1 12 12  1\n",
      "[1] \"I need contributor_id guessDiscipline\"\n",
      " [1] 14  8  8  8  8  8  3  8  8  3 14  3 14\n"
     ]
    },
    {
     "name": "stderr",
     "output_type": "stream",
     "text": [
      "Joining by: \"project_name\"\n"
     ]
    },
    {
     "name": "stdout",
     "output_type": "stream",
     "text": [
      "Source: local data frame [8 x 3]\n",
      "Groups: project_name [8]\n",
      "\n",
      "  project_name total       perc\n",
      "        (fctr) (int)      (dbl)\n",
      "1 BaCell-SysMO    90 0.33333333\n",
      "2       COSMIC    58 0.01724138\n",
      "3        MOSES    24 0.70833333\n",
      "4  Noisy-Strep     3 0.33333333\n",
      "5   SilicoTryp    26 0.19230769\n",
      "6         SUMO    58 0.08620690\n",
      "7     SysMO DB    67 0.46268657\n",
      "8    SysMO-LAB    40 0.05000000\n"
     ]
    },
    {
     "name": "stderr",
     "output_type": "stream",
     "text": [
      "Joining by: \"project_name\"\n",
      "Warning message:\n",
      "In outer_join_impl(x, y, by$x, by$y): joining factor and character vector, coercing into character vector"
     ]
    },
    {
     "data": {
      "text/html": [
       "<table>\n",
       "<thead><tr><th></th><th scope=col>project_name</th><th scope=col>pub_n</th><th scope=col>events_n</th><th scope=col>contributors_n</th><th scope=col>even_cont</th><th scope=col>collb_n</th><th scope=col>id</th><th scope=col>name</th><th scope=col>interview</th><th scope=col>fund</th><th scope=col>ellip.h</th><th scope=col>siz</th><th scope=col>Freq</th><th scope=col>loc_shannon</th><th scope=col>loc_gini</th><th scope=col>lang_shannon</th><th scope=col>lang_gini</th><th scope=col>res_out_rat</th><th scope=col>res_out_year</th><th scope=col>total</th><th scope=col>perc</th></tr></thead>\n",
       "<tbody>\n",
       "\t<tr><th scope=row>1</th><td>BaCell-SysMO</td><td>42</td><td>229</td><td>8</td><td>1</td><td>31</td><td>1</td><td>BaCell-SysMO</td><td>TRUE</td><td>TRUE</td><td>⋯</td><td>53760</td><td>69</td><td>4.644811</td><td>0.2852961</td><td>4.701184</td><td>0.217737</td><td>1</td><td>1</td><td>90</td><td>0.3333333</td></tr>\n",
       "\t<tr><th scope=row>2</th><td>COSMIC</td><td>7</td><td>125</td><td>10</td><td>1</td><td>30</td><td>2</td><td>COSMIC</td><td>FALSE</td><td>TRUE</td><td>⋯</td><td>79360</td><td>50</td><td>4.135367</td><td>0.1178571</td><td>4.099547</td><td>0.140625</td><td>1</td><td>1</td><td>58</td><td>0.01724138</td></tr>\n",
       "\t<tr><th scope=row>3</th><td>MOSES</td><td>5</td><td>52</td><td>4</td><td>1</td><td>9</td><td>8</td><td>MOSES</td><td>TRUE</td><td>FALSE</td><td>⋯</td><td>139620</td><td>10</td><td>3.09036</td><td>0.2169811</td><td>3.017447</td><td>0.287037</td><td>1</td><td>1</td><td>24</td><td>0.7083333</td></tr>\n",
       "\t<tr><th scope=row>4</th><td>Noisy-Strep</td><td>20</td><td>9</td><td>1</td><td>1</td><td>8</td><td>15</td><td>Noisy-Strep</td><td>FALSE</td><td>N</td><td>⋯</td><td>53760</td><td>3</td><td>1.055381</td><td>0.1565996</td><td>1.021728</td><td>0.2028986</td><td>1</td><td>1</td><td>3</td><td>0.3333333</td></tr>\n",
       "\t<tr><th scope=row>5</th><td>PSYSMO</td><td>4</td><td>11</td><td>1</td><td>1</td><td>12</td><td>6</td><td>PSYSMO</td><td>FALSE</td><td>FALSE</td><td>⋯</td><td>12135</td><td>9</td><td>3.434429</td><td>0.3671432</td><td>3.583476</td><td>0.2102056</td><td>1</td><td>1</td><td>NA</td><td>NA</td></tr>\n",
       "\t<tr><th scope=row>6</th><td>SilicoTryp</td><td>11</td><td>59</td><td>6</td><td>1</td><td>11</td><td>14</td><td>SilicoTryp</td><td>TRUE</td><td>N</td><td>⋯</td><td>53760</td><td>12</td><td>3.357855</td><td>0.1548387</td><td>3.338622</td><td>0.1702128</td><td>1</td><td>1</td><td>26</td><td>0.1923077</td></tr>\n",
       "\t<tr><th scope=row>7</th><td>STREAM</td><td>1</td><td>18</td><td>1</td><td>1</td><td>12</td><td>10</td><td>STREAM</td><td>FALSE</td><td>FALSE</td><td>⋯</td><td>609792</td><td>8</td><td>1.820778</td><td>0.2735043</td><td>1.89471</td><td>0.1723356</td><td>1</td><td>1</td><td>NA</td><td>NA</td></tr>\n",
       "\t<tr><th scope=row>8</th><td>SulfoSys</td><td>1</td><td>8</td><td>1</td><td>1</td><td>16</td><td>11</td><td>SulfoSys</td><td>FALSE</td><td>FALSE</td><td>⋯</td><td>872849</td><td>6</td><td>2.491183</td><td>0.2136095</td><td>2.466172</td><td>0.2168675</td><td>1</td><td>1</td><td>NA</td><td>NA</td></tr>\n",
       "\t<tr><th scope=row>9</th><td>SUMO</td><td>15</td><td>95</td><td>11</td><td>1</td><td>29</td><td>3</td><td>SUMO</td><td>TRUE</td><td>TRUE</td><td>⋯</td><td>78336</td><td>38</td><td>3.964531</td><td>0.2699507</td><td>4.011719</td><td>0.21</td><td>1</td><td>1</td><td>58</td><td>0.0862069</td></tr>\n",
       "\t<tr><th scope=row>10</th><td>SysMO-LAB</td><td>10</td><td>97</td><td>16</td><td>1</td><td>27</td><td>5</td><td>SysMO-LAB</td><td>TRUE</td><td>TRUE</td><td>⋯</td><td>74496</td><td>46</td><td>4.885787</td><td>0.2598015</td><td>4.950155</td><td>0.1825397</td><td>1</td><td>1</td><td>40</td><td>0.05</td></tr>\n",
       "\t<tr><th scope=row>11</th><td>TRANSLUCENT</td><td>8</td><td>13</td><td>2</td><td>1</td><td>18</td><td>9</td><td>TRANSLUCENT</td><td>FALSE</td><td>TRUE</td><td>⋯</td><td>55969</td><td>717</td><td>2.432678</td><td>0.4275114</td><td>2.625377</td><td>0.2797619</td><td>1</td><td>1</td><td>NA</td><td>NA</td></tr>\n",
       "\t<tr><th scope=row>12</th><td>SysMO DB</td><td>NA</td><td>NA</td><td>NA</td><td>1</td><td>NA</td><td>NA</td><td>NA</td><td>NA</td><td>NA</td><td>⋯</td><td>NA</td><td>NA</td><td>NA</td><td>NA</td><td>NA</td><td>NA</td><td>1</td><td>1</td><td>67</td><td>0.4626866</td></tr>\n",
       "</tbody>\n",
       "</table>\n"
      ],
      "text/latex": [
       "\\begin{tabular}{r|lllllllllllllllllllllllllllll}\n",
       "  & project_name & pub_n & events_n & contributors_n & even_cont & collb_n & id & name & interview & fund & ellip.h & siz & Freq & loc_shannon & loc_gini & lang_shannon & lang_gini & res_out_rat & res_out_year & total & perc\\\\\n",
       "\\hline\n",
       "\t1 & BaCell-SysMO & 42 & 229 & 8 & 1 & 31 & 1 & BaCell-SysMO & TRUE & TRUE & ⋯ & 53760 & 69 & 4.644811 & 0.2852961 & 4.701184 & 0.217737 & 1 & 1 & 90 & 0.3333333\\\\\n",
       "\t2 & COSMIC & 7 & 125 & 10 & 1 & 30 & 2 & COSMIC & FALSE & TRUE & ⋯ & 79360 & 50 & 4.135367 & 0.1178571 & 4.099547 & 0.140625 & 1 & 1 & 58 & 0.01724138\\\\\n",
       "\t3 & MOSES & 5 & 52 & 4 & 1 & 9 & 8 & MOSES & TRUE & FALSE & ⋯ & 139620 & 10 & 3.09036 & 0.2169811 & 3.017447 & 0.287037 & 1 & 1 & 24 & 0.7083333\\\\\n",
       "\t4 & Noisy-Strep & 20 & 9 & 1 & 1 & 8 & 15 & Noisy-Strep & FALSE & N & ⋯ & 53760 & 3 & 1.055381 & 0.1565996 & 1.021728 & 0.2028986 & 1 & 1 & 3 & 0.3333333\\\\\n",
       "\t5 & PSYSMO & 4 & 11 & 1 & 1 & 12 & 6 & PSYSMO & FALSE & FALSE & ⋯ & 12135 & 9 & 3.434429 & 0.3671432 & 3.583476 & 0.2102056 & 1 & 1 & NA & NA\\\\\n",
       "\t6 & SilicoTryp & 11 & 59 & 6 & 1 & 11 & 14 & SilicoTryp & TRUE & N & ⋯ & 53760 & 12 & 3.357855 & 0.1548387 & 3.338622 & 0.1702128 & 1 & 1 & 26 & 0.1923077\\\\\n",
       "\t7 & STREAM & 1 & 18 & 1 & 1 & 12 & 10 & STREAM & FALSE & FALSE & ⋯ & 609792 & 8 & 1.820778 & 0.2735043 & 1.89471 & 0.1723356 & 1 & 1 & NA & NA\\\\\n",
       "\t8 & SulfoSys & 1 & 8 & 1 & 1 & 16 & 11 & SulfoSys & FALSE & FALSE & ⋯ & 872849 & 6 & 2.491183 & 0.2136095 & 2.466172 & 0.2168675 & 1 & 1 & NA & NA\\\\\n",
       "\t9 & SUMO & 15 & 95 & 11 & 1 & 29 & 3 & SUMO & TRUE & TRUE & ⋯ & 78336 & 38 & 3.964531 & 0.2699507 & 4.011719 & 0.21 & 1 & 1 & 58 & 0.0862069\\\\\n",
       "\t10 & SysMO-LAB & 10 & 97 & 16 & 1 & 27 & 5 & SysMO-LAB & TRUE & TRUE & ⋯ & 74496 & 46 & 4.885787 & 0.2598015 & 4.950155 & 0.1825397 & 1 & 1 & 40 & 0.05\\\\\n",
       "\t11 & TRANSLUCENT & 8 & 13 & 2 & 1 & 18 & 9 & TRANSLUCENT & FALSE & TRUE & ⋯ & 55969 & 717 & 2.432678 & 0.4275114 & 2.625377 & 0.2797619 & 1 & 1 & NA & NA\\\\\n",
       "\t12 & SysMO DB & NA & NA & NA & 1 & NA & NA & NA & NA & NA & ⋯ & NA & NA & NA & NA & NA & NA & 1 & 1 & 67 & 0.4626866\\\\\n",
       "\\end{tabular}\n"
      ],
      "text/plain": [
       "Source: local data frame [12 x 29]\n",
       "\n",
       "   project_name pub_n events_n contributors_n  even_cont collb_n    id\n",
       "          (chr) (int)    (int)          (int)      (dbl)   (int) (int)\n",
       "1  BaCell-SysMO    42      229              8  1.2806873      31     1\n",
       "2        COSMIC     7      125             10 -0.1861582      30     2\n",
       "3         MOSES     5       52              4 -0.1406746       9     8\n",
       "4   Noisy-Strep    20        9              1 -0.5045433       8    15\n",
       "5        PSYSMO     4       11              1 -0.3226090      12     6\n",
       "6    SilicoTryp    11       59              6 -0.4287373      11    14\n",
       "7        STREAM     1       18              1  0.3141612      12    10\n",
       "8      SulfoSys     1        8              1 -0.5955104      16    11\n",
       "9          SUMO    15       95             11 -0.5376222      29     3\n",
       "10    SysMO-LAB    10       97             16 -0.7717593      27     5\n",
       "11  TRANSLUCENT     8       13              2 -0.7319612      18     9\n",
       "12     SysMO DB    NA       NA             NA         NA      NA    NA\n",
       "Variables not shown: name (fctr), interview (lgl), fund (chr), openShare (lgl),\n",
       "  activity (lgl), lifetime (dbl), active (dbl), ave_cont_time (dbl),\n",
       "  ave_cont_time2 (dbl), ave_cont_time3 (dbl), traction (dbl), project_id (int),\n",
       "  siz (dbl), Freq (int), loc_shannon (dbl), loc_gini (dbl), lang_shannon (dbl),\n",
       "  lang_gini (dbl), res_out_rat (dbl), res_out_year (dbl), total (int), perc\n",
       "  (dbl)"
      ]
     },
     "execution_count": 53,
     "metadata": {},
     "output_type": "execute_result"
    }
   ],
   "source": [
    "logsstable<- LogsTable$new()\n",
    "logsstable$loadtable()\n",
    "logsstable$getLogBy()\n",
    "ds<-logsstable$data\n",
    "\n",
    "\n",
    "dat<-isOpenShared(getAllresc(0))\n",
    "\n",
    "\n",
    "\n",
    "\n",
    "pdf6 <- dat %>% group_by(project_name,lab)  %>% \n",
    "            summarise(count = n()) \n",
    "pdf7 <- dat %>% group_by(project_name)  %>% \n",
    "            summarise(total = n()) \n",
    "datx <- inner_join(pdf6,pdf7) %>% mutate(perc = count/total) %>% \n",
    "      filter(lab == \"opensharing\") %>% \n",
    "    select(project_name,total,perc) \n",
    "\n",
    "print(datx)\n",
    "\n",
    "f <- full_join(f,datx) \n",
    "\n",
    "f"
   ]
  },
  {
   "cell_type": "code",
   "execution_count": 54,
   "metadata": {
    "collapsed": false
   },
   "outputs": [
    {
     "data": {
      "text/html": [
       "<ol class=list-inline>\n",
       "\t<li>1.81338609461405</li>\n",
       "\t<li>0.37831580540775</li>\n",
       "\t<li>0.806077141613473</li>\n",
       "\t<li>-1.16024512965477</li>\n",
       "\t<li>-0.89116945042859</li>\n",
       "\t<li>-0.125338671092537</li>\n",
       "\t<li>-0.601395642031165</li>\n",
       "\t<li>-1.01535822545606</li>\n",
       "\t<li>-0.0356467780171436</li>\n",
       "\t<li>-0.00804927245548398</li>\n",
       "\t<li>-0.808376933743612</li>\n",
       "\t<li>NA</li>\n",
       "</ol>\n"
      ],
      "text/latex": [
       "\\begin{enumerate*}\n",
       "\\item 1.81338609461405\n",
       "\\item 0.37831580540775\n",
       "\\item 0.806077141613473\n",
       "\\item -1.16024512965477\n",
       "\\item -0.89116945042859\n",
       "\\item -0.125338671092537\n",
       "\\item -0.601395642031165\n",
       "\\item -1.01535822545606\n",
       "\\item -0.0356467780171436\n",
       "\\item -0.00804927245548398\n",
       "\\item -0.808376933743612\n",
       "\\item NA\n",
       "\\end{enumerate*}\n"
      ],
      "text/markdown": [
       "1. 1.81338609461405\n",
       "2. 0.37831580540775\n",
       "3. 0.806077141613473\n",
       "4. -1.16024512965477\n",
       "5. -0.89116945042859\n",
       "6. -0.125338671092537\n",
       "7. -0.601395642031165\n",
       "8. -1.01535822545606\n",
       "9. -0.0356467780171436\n",
       "10. -0.00804927245548398\n",
       "11. -0.808376933743612\n",
       "12. NA\n",
       "\n",
       "\n"
      ],
      "text/plain": [
       " [1]  1.813386095  0.378315805  0.806077142 -1.160245130 -0.891169450\n",
       " [6] -0.125338671 -0.601395642 -1.015358225 -0.035646778 -0.008049272\n",
       "[11] -0.808376934           NA"
      ]
     },
     "execution_count": 54,
     "metadata": {},
     "output_type": "execute_result"
    },
    {
     "data": {
      "text/html": [
       "<ol class=list-inline>\n",
       "\t<li>1</li>\n",
       "\t<li>0.517401392111369</li>\n",
       "\t<li>0.661252900232019</li>\n",
       "\t<li>0</li>\n",
       "\t<li>0.0904872389791183</li>\n",
       "\t<li>0.348027842227378</li>\n",
       "\t<li>0.187935034802784</li>\n",
       "\t<li>0.048723897911833</li>\n",
       "\t<li>0.378190255220418</li>\n",
       "\t<li>0.387470997679814</li>\n",
       "\t<li>0.118329466357309</li>\n",
       "\t<li>NA</li>\n",
       "</ol>\n"
      ],
      "text/latex": [
       "\\begin{enumerate*}\n",
       "\\item 1\n",
       "\\item 0.517401392111369\n",
       "\\item 0.661252900232019\n",
       "\\item 0\n",
       "\\item 0.0904872389791183\n",
       "\\item 0.348027842227378\n",
       "\\item 0.187935034802784\n",
       "\\item 0.048723897911833\n",
       "\\item 0.378190255220418\n",
       "\\item 0.387470997679814\n",
       "\\item 0.118329466357309\n",
       "\\item NA\n",
       "\\end{enumerate*}\n"
      ],
      "text/markdown": [
       "1. 1\n",
       "2. 0.517401392111369\n",
       "3. 0.661252900232019\n",
       "4. 0\n",
       "5. 0.0904872389791183\n",
       "6. 0.348027842227378\n",
       "7. 0.187935034802784\n",
       "8. 0.048723897911833\n",
       "9. 0.378190255220418\n",
       "10. 0.387470997679814\n",
       "11. 0.118329466357309\n",
       "12. NA\n",
       "\n",
       "\n"
      ],
      "text/plain": [
       " [1] 1.00000000 0.51740139 0.66125290 0.00000000 0.09048724 0.34802784\n",
       " [7] 0.18793503 0.04872390 0.37819026 0.38747100 0.11832947         NA"
      ]
     },
     "execution_count": 54,
     "metadata": {},
     "output_type": "execute_result"
    },
    {
     "data": {
      "text/html": [
       "<table>\n",
       "<tbody>\n",
       "\t<tr><td>1.813386</td></tr>\n",
       "\t<tr><td>0.3783158</td></tr>\n",
       "\t<tr><td>0.8060771</td></tr>\n",
       "\t<tr><td>-1.160245</td></tr>\n",
       "\t<tr><td>-0.8911695</td></tr>\n",
       "\t<tr><td>-0.1253387</td></tr>\n",
       "\t<tr><td>-0.6013956</td></tr>\n",
       "\t<tr><td>-1.015358</td></tr>\n",
       "\t<tr><td>-0.03564678</td></tr>\n",
       "\t<tr><td>-0.008049272</td></tr>\n",
       "\t<tr><td>-0.8083769</td></tr>\n",
       "\t<tr><td>NA</td></tr>\n",
       "</tbody>\n",
       "</table>\n"
      ],
      "text/latex": [
       "\\begin{tabular}{l}\n",
       "\t 1.813386\\\\\n",
       "\t 0.3783158\\\\\n",
       "\t 0.8060771\\\\\n",
       "\t -1.160245\\\\\n",
       "\t -0.8911695\\\\\n",
       "\t -0.1253387\\\\\n",
       "\t -0.6013956\\\\\n",
       "\t -1.015358\\\\\n",
       "\t -0.03564678\\\\\n",
       "\t -0.008049272\\\\\n",
       "\t -0.8083769\\\\\n",
       "\t NA\\\\\n",
       "\\end{tabular}\n"
      ],
      "text/markdown": [
       "1. 1.81338609461405\n",
       "2. 0.37831580540775\n",
       "3. 0.806077141613473\n",
       "4. -1.16024512965477\n",
       "5. -0.89116945042859\n",
       "6. -0.125338671092537\n",
       "7. -0.601395642031165\n",
       "8. -1.01535822545606\n",
       "9. -0.0356467780171436\n",
       "10. -0.00804927245548398\n",
       "11. -0.808376933743612\n",
       "12. NA\n",
       "\n",
       "\n"
      ],
      "text/plain": [
       "              [,1]\n",
       " [1,]  1.813386095\n",
       " [2,]  0.378315805\n",
       " [3,]  0.806077142\n",
       " [4,] -1.160245130\n",
       " [5,] -0.891169450\n",
       " [6,] -0.125338671\n",
       " [7,] -0.601395642\n",
       " [8,] -1.015358225\n",
       " [9,] -0.035646778\n",
       "[10,] -0.008049272\n",
       "[11,] -0.808376934\n",
       "[12,]           NA"
      ]
     },
     "execution_count": 54,
     "metadata": {},
     "output_type": "execute_result"
    }
   ],
   "source": [
    "f$ave_cont_time2\n",
    "f$ave_cont_time3\n",
    "f$ave_cont_time\n",
    "\n"
   ]
  },
  {
   "cell_type": "code",
   "execution_count": 55,
   "metadata": {
    "collapsed": false
   },
   "outputs": [
    {
     "ename": "ERROR",
     "evalue": "Error in eval(expr, envir, enclos): could not find function \"plotmatrix\"\n",
     "output_type": "error",
     "traceback": [
      "Error in eval(expr, envir, enclos): could not find function \"plotmatrix\"\n"
     ]
    },
    {
     "ename": "ERROR",
     "evalue": "Error in multiplot(sp1, sp2, p3): object 'p3' not found\n",
     "output_type": "error",
     "traceback": [
      "Error in multiplot(sp1, sp2, p3): object 'p3' not found\n"
     ]
    }
   ],
   "source": [
    "sp1 <- ggplot(f, aes(colour=((traction)),trans=\"log\")) +\n",
    "# geom_bar(stat=\"identity\") +\n",
    "geom_point(aes(y=(ave_cont_time), x=(even_cont),size=lang_gini, label=project_name )) +\n",
    "geom_text(aes(y=(ave_cont_time), x=(even_cont),\n",
    "              label=ifelse(fund==\"FALSE\",as.character(project_name),'')),\n",
    "          hjust=0, vjust=0)\n",
    "\n",
    "\n",
    "sp2 <- ggplot(f, aes(colour=((even_cont)),trans=\"log\")) +\n",
    "# geom_bar(stat=\"identity\") +\n",
    "geom_point(aes(y=(res_out_year), x=(ave_cont_time),size=lang_gini, label=project_name )) +\n",
    "geom_text(aes(y=(res_out_year), x=(ave_cont_time),\n",
    "              label=ifelse(contributors_n == 1,as.character(project_name),'')),\n",
    "          hjust=0, vjust=0)\n",
    "\n",
    "#   geom_text(aes(label=ifelse(PTS>24,as.character(Name),'')),hjust=0,just=0)\n",
    "\n",
    "# sp1 + facet_grid(fund ~. )\n",
    "\n",
    "p3<- plotmatrix(f[, 1:3]) + geom_smooth(method=\"lm\")\n",
    "\n",
    "multiplot(sp1,sp2,p3)\n"
   ]
  },
  {
   "cell_type": "markdown",
   "metadata": {},
   "source": [
    "##### Table with studied projects and just looking at demographics"
   ]
  },
  {
   "cell_type": "code",
   "execution_count": 56,
   "metadata": {
    "collapsed": false
   },
   "outputs": [
    {
     "name": "stdout",
     "output_type": "stream",
     "text": [
      "Source: local data frame [1 x 7]\n",
      "\n",
      "  mean0     mean     mean1     mean2     mean3     mean4 mean5\n",
      "  (chr)    (dbl)     (dbl)     (dbl)     (dbl)     (dbl) (chr)\n",
      "1       0.165424 0.4045334 0.2175488 0.1842229 0.6812823      \n"
     ]
    }
   ],
   "source": [
    "s <- f %>% filter(project_name == \"SUMO\" |\n",
    "                  project_name == \"SysMO-LAB\" |\n",
    "                  project_name == \"COSMIC\" |\n",
    "                  project_name == \"SilicoTryp\" |\n",
    "                  project_name == \"BaCell-SysMO\") %>%\n",
    "        summarise(mean0=\"\", mean=mean(res_out_year,  na.rm = TRUE),\n",
    "                    mean1=mean(ave_cont_time,  na.rm = TRUE),\n",
    "                    mean2=mean(loc_gini,  na.rm = TRUE),\n",
    "                    mean3=mean(lang_gini,  na.rm = TRUE),\n",
    "                    mean4=mean(traction,  na.rm = TRUE),\n",
    "                    mean5=\"\"\n",
    "                    )\n",
    "print(s)"
   ]
  },
  {
   "cell_type": "code",
   "execution_count": 57,
   "metadata": {
    "collapsed": false
   },
   "outputs": [
    {
     "data": {
      "text/html": [
       "<ol class=list-inline>\n",
       "\t<li>'project_name'</li>\n",
       "\t<li>'pub_n'</li>\n",
       "\t<li>'events_n'</li>\n",
       "\t<li>'contributors_n'</li>\n",
       "\t<li>'even_cont'</li>\n",
       "\t<li>'collb_n'</li>\n",
       "\t<li>'id'</li>\n",
       "\t<li>'name'</li>\n",
       "\t<li>'interview'</li>\n",
       "\t<li>'fund'</li>\n",
       "\t<li>'openShare'</li>\n",
       "\t<li>'activity'</li>\n",
       "\t<li>'lifetime'</li>\n",
       "\t<li>'active'</li>\n",
       "\t<li>'ave_cont_time'</li>\n",
       "\t<li>'ave_cont_time2'</li>\n",
       "\t<li>'ave_cont_time3'</li>\n",
       "\t<li>'traction'</li>\n",
       "\t<li>'project_id'</li>\n",
       "\t<li>'siz'</li>\n",
       "\t<li>'Freq'</li>\n",
       "\t<li>'loc_shannon'</li>\n",
       "\t<li>'loc_gini'</li>\n",
       "\t<li>'lang_shannon'</li>\n",
       "\t<li>'lang_gini'</li>\n",
       "\t<li>'res_out_rat'</li>\n",
       "\t<li>'res_out_year'</li>\n",
       "\t<li>'total'</li>\n",
       "\t<li>'perc'</li>\n",
       "</ol>\n"
      ],
      "text/latex": [
       "\\begin{enumerate*}\n",
       "\\item 'project_name'\n",
       "\\item 'pub_n'\n",
       "\\item 'events_n'\n",
       "\\item 'contributors_n'\n",
       "\\item 'even_cont'\n",
       "\\item 'collb_n'\n",
       "\\item 'id'\n",
       "\\item 'name'\n",
       "\\item 'interview'\n",
       "\\item 'fund'\n",
       "\\item 'openShare'\n",
       "\\item 'activity'\n",
       "\\item 'lifetime'\n",
       "\\item 'active'\n",
       "\\item 'ave_cont_time'\n",
       "\\item 'ave_cont_time2'\n",
       "\\item 'ave_cont_time3'\n",
       "\\item 'traction'\n",
       "\\item 'project_id'\n",
       "\\item 'siz'\n",
       "\\item 'Freq'\n",
       "\\item 'loc_shannon'\n",
       "\\item 'loc_gini'\n",
       "\\item 'lang_shannon'\n",
       "\\item 'lang_gini'\n",
       "\\item 'res_out_rat'\n",
       "\\item 'res_out_year'\n",
       "\\item 'total'\n",
       "\\item 'perc'\n",
       "\\end{enumerate*}\n"
      ],
      "text/markdown": [
       "1. 'project_name'\n",
       "2. 'pub_n'\n",
       "3. 'events_n'\n",
       "4. 'contributors_n'\n",
       "5. 'even_cont'\n",
       "6. 'collb_n'\n",
       "7. 'id'\n",
       "8. 'name'\n",
       "9. 'interview'\n",
       "10. 'fund'\n",
       "11. 'openShare'\n",
       "12. 'activity'\n",
       "13. 'lifetime'\n",
       "14. 'active'\n",
       "15. 'ave_cont_time'\n",
       "16. 'ave_cont_time2'\n",
       "17. 'ave_cont_time3'\n",
       "18. 'traction'\n",
       "19. 'project_id'\n",
       "20. 'siz'\n",
       "21. 'Freq'\n",
       "22. 'loc_shannon'\n",
       "23. 'loc_gini'\n",
       "24. 'lang_shannon'\n",
       "25. 'lang_gini'\n",
       "26. 'res_out_rat'\n",
       "27. 'res_out_year'\n",
       "28. 'total'\n",
       "29. 'perc'\n",
       "\n",
       "\n"
      ],
      "text/plain": [
       " [1] \"project_name\"   \"pub_n\"          \"events_n\"       \"contributors_n\"\n",
       " [5] \"even_cont\"      \"collb_n\"        \"id\"             \"name\"          \n",
       " [9] \"interview\"      \"fund\"           \"openShare\"      \"activity\"      \n",
       "[13] \"lifetime\"       \"active\"         \"ave_cont_time\"  \"ave_cont_time2\"\n",
       "[17] \"ave_cont_time3\" \"traction\"       \"project_id\"     \"siz\"           \n",
       "[21] \"Freq\"           \"loc_shannon\"    \"loc_gini\"       \"lang_shannon\"  \n",
       "[25] \"lang_gini\"      \"res_out_rat\"    \"res_out_year\"   \"total\"         \n",
       "[29] \"perc\"          "
      ]
     },
     "execution_count": 57,
     "metadata": {},
     "output_type": "execute_result"
    }
   ],
   "source": [
    "library(xtable)\n",
    "\n",
    "names(f)\n",
    "\n",
    "round_df <- function(df, digits) {\n",
    "  nums <- vapply(df, is.numeric, FUN.VALUE = logical(1))\n",
    "\n",
    "  df[,nums] <- round(df[,nums], digits = digits)\n",
    "\n",
    "  (df)\n",
    "}\n",
    "\n",
    "\n",
    "f[,-1] <-round_df(f[,-1], digits=2) \n",
    "\n",
    "\n",
    "\n",
    "# tbl<-xtable(f %>% select(project_name, res_out_year,ave_cont_time,fund) %>%\n",
    "#           arrange(fund,ave_cont_time),booktabs=TRUE)\n",
    "\n",
    "\n"
   ]
  },
  {
   "cell_type": "code",
   "execution_count": 58,
   "metadata": {
    "collapsed": false
   },
   "outputs": [
    {
     "name": "stderr",
     "output_type": "stream",
     "text": [
      "Joining by: \"project_name\"\n",
      "Warning message:\n",
      "In inner_join_impl(x, y, by$x, by$y): joining character vector and factor, coercing into character vector"
     ]
    },
    {
     "name": "stdout",
     "output_type": "stream",
     "text": [
      "% latex table generated in R 3.2.3 by xtable 1.8-0 package\n",
      "% Sat Mar 26 17:13:34 2016\n",
      "\\begin{table}[ht]\n",
      "\\centering\n",
      "\\begin{tabular}{rllllll}\n",
      "  \\hline\n",
      " & 1 & 2 & 3 & 4 & 5 & 6 \\\\ \n",
      "  \\hline\n",
      "project\\_name & MOSES & SilicoTryp & SUMO & SysMO-LAB & COSMIC & BaCell-SysMO \\\\ \n",
      "  project\\_name\\_anon & DEER-LICK & ZWICKY & BULLET & BURBIDGE  & COPELAND  & LEO \\\\ \n",
      "  res\\_out\\_year & -0.10 &  0.03 & -0.10 & -0.52 & -0.77 &  2.18 \\\\ \n",
      "  ave\\_cont\\_time &  0.81 & -0.13 & -0.04 & -0.01 &  0.38 &  1.81 \\\\ \n",
      "  loc\\_gini & 0.22 & 0.15 & 0.27 & 0.26 & 0.12 & 0.29 \\\\ \n",
      "  lang\\_gini & 0.29 & 0.17 & 0.21 & 0.18 & 0.14 & 0.22 \\\\ \n",
      "  traction &  0.80 &  1.32 &  0.46 &  1.56 &  0.23 & -0.16 \\\\ \n",
      "  contributors\\_n &  4 &  6 & 11 & 16 & 10 &  8 \\\\ \n",
      "  collb\\_n &  9 & 11 & 29 & 27 & 30 & 31 \\\\ \n",
      "  lifetime & 1 & 2 & 3 & 3 & 3 & 3 \\\\ \n",
      "  fund & FALSE & N & TRUE & TRUE & TRUE & TRUE \\\\ \n",
      "   \\hline\n",
      "\\end{tabular}\n",
      "\\caption{Embedded Cases Descriptive Information} \n",
      "\\label{tblcasesdescription}\n",
      "\\end{table}\n"
     ]
    }
   ],
   "source": [
    "\n",
    "\n",
    "f <- inner_join(f, anon_names)\n",
    "\n",
    "\n",
    "f1 <- f\n",
    "tbl<-xtable(t(f1 %>% select(project_name,project_name_anon,res_out_year,ave_cont_time,loc_gini,lang_gini,traction,contributors_n,collb_n,lifetime,fund) %>%\n",
    "              filter(project_name == \"MOSES\" | \n",
    "                  project_name == \"SUMO\" |\n",
    "                  project_name == \"SysMO-LAB\" |\n",
    "                  project_name == \"SilicoTryp\" |\n",
    "                  project_name == \"COSMIC\" |\n",
    "                  project_name == \"BaCell-SysMO\") %>%\n",
    "          arrange(fund,ave_cont_time,traction,contributors_n,collb_n,lifetime) ),booktabs=TRUE, \n",
    "          caption=\"Embedded Cases Descriptive Information\", \n",
    "          label=\"tblcasesdescription\", only.contents=TRUE)\n",
    "\n",
    "print(tbl)"
   ]
  },
  {
   "cell_type": "markdown",
   "metadata": {},
   "source": [
    "##### Table with all the projects and just looking at outcomes"
   ]
  },
  {
   "cell_type": "code",
   "execution_count": 59,
   "metadata": {
    "collapsed": false
   },
   "outputs": [
    {
     "name": "stdout",
     "output_type": "stream",
     "text": [
      "% latex table generated in R 3.2.3 by xtable 1.8-0 package\n",
      "% Sat Mar 26 17:13:50 2016\n",
      "\\begin{table}[ht]\n",
      "\\centering\n",
      "\\begin{tabular}{rlrrl}\n",
      "  \\hline\n",
      " & project\\_name\\_anon & res\\_out\\_year & ave\\_cont\\_time & fund \\\\ \n",
      "  \\hline\n",
      "1 & WILD & 1.17 & -1.16 & N \\\\ \n",
      "  2 & MARKARIAN & -1.11 & -1.02 & FALSE \\\\ \n",
      "  3 & ROBERT  & -0.35 & -0.89 & FALSE \\\\ \n",
      "  4 & SEYFERT & 0.66 & -0.81 & TRUE \\\\ \n",
      "  5 & STEPHAN & -1.11 & -0.60 & FALSE \\\\ \n",
      "  6 & ZWICKY & 0.03 & -0.13 & N \\\\ \n",
      "  7 & BULLET & -0.10 & -0.04 & TRUE \\\\ \n",
      "  8 & BURBIDGE  & -0.52 & -0.01 & TRUE \\\\ \n",
      "  9 & COPELAND  & -0.77 & 0.38 & TRUE \\\\ \n",
      "  10 & DEER-LICK & -0.10 & 0.81 & FALSE \\\\ \n",
      "  11 & LEO & 2.18 & 1.81 & TRUE \\\\ \n",
      "   \\hline\n",
      "\\end{tabular}\n",
      "\\caption{Collaboration Contributions Comparison} \n",
      "\\label{tblprojectscontrib}\n",
      "\\end{table}\n"
     ]
    }
   ],
   "source": [
    "tbl<-xtable((f %>% select(project_name_anon, res_out_year,ave_cont_time,fund) %>%\n",
    "          arrange(ave_cont_time,res_out_year)),booktabs=TRUE, \n",
    "          caption=\"Collaboration Contributions Comparison\", \n",
    "          label=\"tblprojectscontrib\", only.contents=TRUE)\n",
    "\n",
    "print(tbl)"
   ]
  },
  {
   "cell_type": "code",
   "execution_count": 39,
   "metadata": {
    "collapsed": true
   },
   "outputs": [],
   "source": [
    "##### Table with all the projects and just looking at outcomes no filter projects"
   ]
  },
  {
   "cell_type": "code",
   "execution_count": 40,
   "metadata": {
    "collapsed": false
   },
   "outputs": [
    {
     "name": "stdout",
     "output_type": "stream",
     "text": [
      "% latex table generated in R 3.2.3 by xtable 1.8-0 package\n",
      "% Sat Mar 26 17:07:48 2016\n",
      "\\begin{table}[ht]\n",
      "\\centering\n",
      "\\begin{tabular}{rlrr}\n",
      "  \\hline\n",
      " & project\\_name\\_anon & res\\_out\\_year & ave\\_cont\\_time \\\\ \n",
      "  \\hline\n",
      "1 & MARKARIAN & -0.95 & -1.12 \\\\ \n",
      "  2 & ROBERT  & -0.21 & -0.99 \\\\ \n",
      "  3 & SEYFERT & 0.77 & -0.91 \\\\ \n",
      "  4 & STEPHAN & -0.95 & -0.71 \\\\ \n",
      "  5 & BULLET & 0.04 & -0.16 \\\\ \n",
      "  6 & BURBIDGE  & -0.37 & -0.13 \\\\ \n",
      "  7 & COPELAND  & -0.62 & 0.24 \\\\ \n",
      "  8 & DEER-LICK & 0.04 & 0.66 \\\\ \n",
      "  9 & LEO & 2.25 & 1.64 \\\\ \n",
      "  10 & WILD &  &  \\\\ \n",
      "  11 & ZWICKY &  &  \\\\ \n",
      "   \\hline\n",
      "\\end{tabular}\n",
      "\\caption{Collaboration Contributions Comparison} \n",
      "\\label{tblprojectscontrib}\n",
      "\\end{table}\n"
     ]
    }
   ],
   "source": [
    "tbl<-xtable((f %>% select(project_name_anon, res_out_year,ave_cont_time) %>%\n",
    "          arrange(ave_cont_time,res_out_year)),booktabs=TRUE, \n",
    "          caption=\"Collaboration Contributions Comparison\", \n",
    "          label=\"tblprojectscontrib\", only.contents=TRUE)\n",
    "\n",
    "print(tbl)"
   ]
  },
  {
   "cell_type": "markdown",
   "metadata": {},
   "source": [
    "#### same data different approach\n",
    "\n"
   ]
  },
  {
   "cell_type": "code",
   "execution_count": 41,
   "metadata": {
    "collapsed": false
   },
   "outputs": [
    {
     "name": "stderr",
     "output_type": "stream",
     "text": [
      "Joining by: \"project_id\"\n",
      "Joining by: \"project_id\"\n"
     ]
    },
    {
     "name": "stdout",
     "output_type": "stream",
     "text": [
      "[1] \"I need contributor_id guessDiscipline\"\n"
     ]
    },
    {
     "name": "stderr",
     "output_type": "stream",
     "text": [
      "Joining by: \"project_name\"\n",
      "Joining by: \"project_id\"\n"
     ]
    },
    {
     "name": "stdout",
     "output_type": "stream",
     "text": [
      "[1] \"I need contributor_id guessDiscipline\"\n"
     ]
    },
    {
     "name": "stderr",
     "output_type": "stream",
     "text": [
      "Joining by: c(\"project_id\", \"project_name\", \"id\", \"name\")\n"
     ]
    },
    {
     "data": {
      "text/html": [
       "<table>\n",
       "<thead><tr><th></th><th scope=col>project_id</th><th scope=col>DataFile_n</th><th scope=col>Sop_n</th><th scope=col>Model_n</th><th scope=col>events_n</th><th scope=col>project_name</th><th scope=col>collb_n</th><th scope=col>id</th><th scope=col>name</th><th scope=col>interview</th><th scope=col>ellip.h</th><th scope=col>activity</th><th scope=col>lifetime</th><th scope=col>active</th><th scope=col>ave_cont_time</th><th scope=col>siz</th><th scope=col>Freq</th><th scope=col>loc_shannon</th><th scope=col>loc_gini</th><th scope=col>lang_shannon</th><th scope=col>lang_gini</th></tr></thead>\n",
       "<tbody>\n",
       "\t<tr><th scope=row>1</th><td>1</td><td>69</td><td>15</td><td>10</td><td>94</td><td>BaCell-SysMO</td><td>25</td><td>1</td><td>BaCell-SysMO</td><td>TRUE</td><td>⋯</td><td>FALSE</td><td>3</td><td>8.333333</td><td>31.33333</td><td>53760</td><td>69</td><td>4.644811</td><td>0.2852961</td><td>4.701184</td><td>0.217737</td></tr>\n",
       "\t<tr><th scope=row>2</th><td>2</td><td>50</td><td>20</td><td>11</td><td>81</td><td>COSMIC</td><td>22</td><td>2</td><td>COSMIC</td><td>FALSE</td><td>⋯</td><td>FALSE</td><td>3</td><td>7.333333</td><td>27</td><td>79360</td><td>50</td><td>4.135367</td><td>0.1178571</td><td>4.099547</td><td>0.140625</td></tr>\n",
       "\t<tr><th scope=row>3</th><td>8</td><td>10</td><td>11</td><td>3</td><td>24</td><td>MOSES</td><td>7</td><td>8</td><td>MOSES</td><td>TRUE</td><td>⋯</td><td>FALSE</td><td>1</td><td>7</td><td>24</td><td>139620</td><td>10</td><td>3.09036</td><td>0.2169811</td><td>3.017447</td><td>0.287037</td></tr>\n",
       "\t<tr><th scope=row>4</th><td>10</td><td>8</td><td>16</td><td>2</td><td>26</td><td>STREAM</td><td>10</td><td>10</td><td>STREAM</td><td>FALSE</td><td>⋯</td><td>FALSE</td><td>1</td><td>10</td><td>26</td><td>609792</td><td>8</td><td>1.820778</td><td>0.2735043</td><td>1.89471</td><td>0.1723356</td></tr>\n",
       "\t<tr><th scope=row>5</th><td>11</td><td>6</td><td>5</td><td>1</td><td>12</td><td>SulfoSys</td><td>15</td><td>11</td><td>SulfoSys</td><td>FALSE</td><td>⋯</td><td>FALSE</td><td>1</td><td>15</td><td>12</td><td>872849</td><td>6</td><td>2.491183</td><td>0.2136095</td><td>2.466172</td><td>0.2168675</td></tr>\n",
       "\t<tr><th scope=row>6</th><td>3</td><td>38</td><td>17</td><td>13</td><td>68</td><td>SUMO</td><td>17</td><td>3</td><td>SUMO</td><td>TRUE</td><td>⋯</td><td>FALSE</td><td>3</td><td>5.666667</td><td>22.66667</td><td>78336</td><td>38</td><td>3.964531</td><td>0.2699507</td><td>4.011719</td><td>0.21</td></tr>\n",
       "\t<tr><th scope=row>7</th><td>12</td><td>34</td><td>7</td><td>26</td><td>67</td><td>SysMO DB</td><td>7</td><td>12</td><td>SysMO DB</td><td>FALSE</td><td>⋯</td><td>FALSE</td><td>3</td><td>2.333333</td><td>22.33333</td><td>105728</td><td>34</td><td>2.826948</td><td>0.2686335</td><td>2.941424</td><td>0.1689189</td></tr>\n",
       "\t<tr><th scope=row>8</th><td>5</td><td>46</td><td>17</td><td>13</td><td>76</td><td>SysMO-LAB</td><td>12</td><td>5</td><td>SysMO-LAB</td><td>TRUE</td><td>⋯</td><td>FALSE</td><td>3</td><td>4</td><td>25.33333</td><td>74496</td><td>46</td><td>4.885787</td><td>0.2598015</td><td>4.950155</td><td>0.1825397</td></tr>\n",
       "\t<tr><th scope=row>9</th><td>9</td><td>717</td><td>7</td><td>1</td><td>725</td><td>TRANSLUCENT</td><td>13</td><td>9</td><td>TRANSLUCENT</td><td>FALSE</td><td>⋯</td><td>FALSE</td><td>1</td><td>13</td><td>725</td><td>55969</td><td>717</td><td>2.432678</td><td>0.4275114</td><td>2.625377</td><td>0.2797619</td></tr>\n",
       "</tbody>\n",
       "</table>\n"
      ],
      "text/latex": [
       "\\begin{tabular}{r|llllllllllllllllllllll}\n",
       "  & project_id & DataFile_n & Sop_n & Model_n & events_n & project_name & collb_n & id & name & interview & ellip.h & activity & lifetime & active & ave_cont_time & siz & Freq & loc_shannon & loc_gini & lang_shannon & lang_gini\\\\\n",
       "\\hline\n",
       "\t1 & 1 & 69 & 15 & 10 & 94 & BaCell-SysMO & 25 & 1 & BaCell-SysMO & TRUE & ⋯ & FALSE & 3 & 8.333333 & 31.33333 & 53760 & 69 & 4.644811 & 0.2852961 & 4.701184 & 0.217737\\\\\n",
       "\t2 & 2 & 50 & 20 & 11 & 81 & COSMIC & 22 & 2 & COSMIC & FALSE & ⋯ & FALSE & 3 & 7.333333 & 27 & 79360 & 50 & 4.135367 & 0.1178571 & 4.099547 & 0.140625\\\\\n",
       "\t3 & 8 & 10 & 11 & 3 & 24 & MOSES & 7 & 8 & MOSES & TRUE & ⋯ & FALSE & 1 & 7 & 24 & 139620 & 10 & 3.09036 & 0.2169811 & 3.017447 & 0.287037\\\\\n",
       "\t4 & 10 & 8 & 16 & 2 & 26 & STREAM & 10 & 10 & STREAM & FALSE & ⋯ & FALSE & 1 & 10 & 26 & 609792 & 8 & 1.820778 & 0.2735043 & 1.89471 & 0.1723356\\\\\n",
       "\t5 & 11 & 6 & 5 & 1 & 12 & SulfoSys & 15 & 11 & SulfoSys & FALSE & ⋯ & FALSE & 1 & 15 & 12 & 872849 & 6 & 2.491183 & 0.2136095 & 2.466172 & 0.2168675\\\\\n",
       "\t6 & 3 & 38 & 17 & 13 & 68 & SUMO & 17 & 3 & SUMO & TRUE & ⋯ & FALSE & 3 & 5.666667 & 22.66667 & 78336 & 38 & 3.964531 & 0.2699507 & 4.011719 & 0.21\\\\\n",
       "\t7 & 12 & 34 & 7 & 26 & 67 & SysMO DB & 7 & 12 & SysMO DB & FALSE & ⋯ & FALSE & 3 & 2.333333 & 22.33333 & 105728 & 34 & 2.826948 & 0.2686335 & 2.941424 & 0.1689189\\\\\n",
       "\t8 & 5 & 46 & 17 & 13 & 76 & SysMO-LAB & 12 & 5 & SysMO-LAB & TRUE & ⋯ & FALSE & 3 & 4 & 25.33333 & 74496 & 46 & 4.885787 & 0.2598015 & 4.950155 & 0.1825397\\\\\n",
       "\t9 & 9 & 717 & 7 & 1 & 725 & TRANSLUCENT & 13 & 9 & TRANSLUCENT & FALSE & ⋯ & FALSE & 1 & 13 & 725 & 55969 & 717 & 2.432678 & 0.4275114 & 2.625377 & 0.2797619\\\\\n",
       "\\end{tabular}\n"
      ],
      "text/plain": [
       "Source: local data frame [9 x 22]\n",
       "Groups: project_id [?]\n",
       "\n",
       "  project_id DataFile_n Sop_n Model_n events_n project_name collb_n    id\n",
       "       (int)      (int) (int)   (int)    (int)       (fctr)   (int) (int)\n",
       "1          1         69    15      10       94 BaCell-SysMO      25     1\n",
       "2          2         50    20      11       81       COSMIC      22     2\n",
       "3          8         10    11       3       24        MOSES       7     8\n",
       "4         10          8    16       2       26       STREAM      10    10\n",
       "5         11          6     5       1       12     SulfoSys      15    11\n",
       "6          3         38    17      13       68         SUMO      17     3\n",
       "7         12         34     7      26       67     SysMO DB       7    12\n",
       "8          5         46    17      13       76    SysMO-LAB      12     5\n",
       "9          9        717     7       1      725  TRANSLUCENT      13     9\n",
       "Variables not shown: name (fctr), interview (lgl), fund (chr), openShare (lgl),\n",
       "  activity (lgl), lifetime (dbl), active (dbl), ave_cont_time (dbl), siz (dbl),\n",
       "  Freq (int), loc_shannon (dbl), loc_gini (dbl), lang_shannon (dbl), lang_gini\n",
       "  (dbl)"
      ]
     },
     "execution_count": 41,
     "metadata": {},
     "output_type": "execute_result"
    },
    {
     "data": {
      "text/html": [
       "<ol class=list-inline>\n",
       "\t<li>'project_id'</li>\n",
       "\t<li>'DataFile_n'</li>\n",
       "\t<li>'Sop_n'</li>\n",
       "\t<li>'Model_n'</li>\n",
       "\t<li>'events_n'</li>\n",
       "\t<li>'project_name'</li>\n",
       "\t<li>'collb_n'</li>\n",
       "\t<li>'id'</li>\n",
       "\t<li>'name'</li>\n",
       "\t<li>'interview'</li>\n",
       "\t<li>'fund'</li>\n",
       "\t<li>'openShare'</li>\n",
       "\t<li>'activity'</li>\n",
       "\t<li>'lifetime'</li>\n",
       "\t<li>'active'</li>\n",
       "\t<li>'ave_cont_time'</li>\n",
       "\t<li>'siz'</li>\n",
       "\t<li>'Freq'</li>\n",
       "\t<li>'loc_shannon'</li>\n",
       "\t<li>'loc_gini'</li>\n",
       "\t<li>'lang_shannon'</li>\n",
       "\t<li>'lang_gini'</li>\n",
       "</ol>\n"
      ],
      "text/latex": [
       "\\begin{enumerate*}\n",
       "\\item 'project_id'\n",
       "\\item 'DataFile_n'\n",
       "\\item 'Sop_n'\n",
       "\\item 'Model_n'\n",
       "\\item 'events_n'\n",
       "\\item 'project_name'\n",
       "\\item 'collb_n'\n",
       "\\item 'id'\n",
       "\\item 'name'\n",
       "\\item 'interview'\n",
       "\\item 'fund'\n",
       "\\item 'openShare'\n",
       "\\item 'activity'\n",
       "\\item 'lifetime'\n",
       "\\item 'active'\n",
       "\\item 'ave_cont_time'\n",
       "\\item 'siz'\n",
       "\\item 'Freq'\n",
       "\\item 'loc_shannon'\n",
       "\\item 'loc_gini'\n",
       "\\item 'lang_shannon'\n",
       "\\item 'lang_gini'\n",
       "\\end{enumerate*}\n"
      ],
      "text/markdown": [
       "1. 'project_id'\n",
       "2. 'DataFile_n'\n",
       "3. 'Sop_n'\n",
       "4. 'Model_n'\n",
       "5. 'events_n'\n",
       "6. 'project_name'\n",
       "7. 'collb_n'\n",
       "8. 'id'\n",
       "9. 'name'\n",
       "10. 'interview'\n",
       "11. 'fund'\n",
       "12. 'openShare'\n",
       "13. 'activity'\n",
       "14. 'lifetime'\n",
       "15. 'active'\n",
       "16. 'ave_cont_time'\n",
       "17. 'siz'\n",
       "18. 'Freq'\n",
       "19. 'loc_shannon'\n",
       "20. 'loc_gini'\n",
       "21. 'lang_shannon'\n",
       "22. 'lang_gini'\n",
       "\n",
       "\n"
      ],
      "text/plain": [
       " [1] \"project_id\"    \"DataFile_n\"    \"Sop_n\"         \"Model_n\"      \n",
       " [5] \"events_n\"      \"project_name\"  \"collb_n\"       \"id\"           \n",
       " [9] \"name\"          \"interview\"     \"fund\"          \"openShare\"    \n",
       "[13] \"activity\"      \"lifetime\"      \"active\"        \"ave_cont_time\"\n",
       "[17] \"siz\"           \"Freq\"          \"loc_shannon\"   \"loc_gini\"     \n",
       "[21] \"lang_shannon\"  \"lang_gini\"    "
      ]
     },
     "execution_count": 41,
     "metadata": {},
     "output_type": "execute_result"
    }
   ],
   "source": [
    "projs <- processCsv('projects')\n",
    "  data  <- processCsv('data_files_projects')\n",
    "  pdata = data %>% group_by(project_id) %>% summarise(DataFile_n=n())\n",
    "  sops  <- processCsv('sops_projects')\n",
    "  psops = sops %>% group_by(project_id) %>% summarise(Sop_n=n())\n",
    "  mods  <- processCsv('models_projects')\n",
    "  pmods = mods %>% group_by(project_id) %>% summarise(Model_n=n())\n",
    "\n",
    "\n",
    "dsa = inner_join(pdata,psops)\n",
    "ds = inner_join(dsa,pmods)\n",
    "\n",
    "ds2 <- ds %>% group_by(project_id) %>% \n",
    "      mutate(events_n = sum(DataFile_n, Sop_n, Model_n))\n",
    "                                                                                                  \n",
    "\n",
    "users <-getMembers(0) \n",
    "new_fr_1 <- users %>% group_by(project_name) %>%\n",
    "      filter(ncreated_at <= \"2010-01-01\") %>%\n",
    "      summarise(collb_n = n())\n",
    "\n",
    "\n",
    "\n",
    "\n",
    "new_fr = inner_join(new_fr_1,getProjInfo())\n",
    "new_fr$project_id <-new_fr$id\n",
    "new_fr2 = inner_join(ds2,new_fr)\n",
    "\n",
    "\n",
    "\n",
    "\n",
    "new_fr3 <- new_fr2 %>% mutate(active= (collb_n/(lifetime)),\n",
    "                           ave_cont_time=(events_n/(lifetime)))\n",
    "\n",
    "new_fr4 = inner_join(new_fr3,projectContBySize())\n",
    "# new_fr4\n",
    "# names(x)\n",
    "\n",
    "\n",
    "new_fr = semi_join(new_fr4,x,by=\"project_name\")\n",
    "\n",
    "new_fr\n",
    "names(new_fr)\n",
    "\n"
   ]
  },
  {
   "cell_type": "code",
   "execution_count": 42,
   "metadata": {
    "collapsed": false
   },
   "outputs": [
    {
     "ename": "ERROR",
     "evalue": "Error in layout_base(data, rows, drop = drop): At least one layer must contain all variables used for facetting\n",
     "output_type": "error",
     "traceback": [
      "Error in layout_base(data, rows, drop = drop): At least one layer must contain all variables used for facetting\n"
     ]
    },
    {
     "ename": "ERROR",
     "evalue": "Error in file(con, \"rb\"): cannot open the connection\n",
     "output_type": "error",
     "traceback": [
      "Error in file(con, \"rb\"): cannot open the connection\n"
     ]
    },
    {
     "ename": "ERROR",
     "evalue": "Error in file(con, \"rb\"): cannot open the connection\n",
     "output_type": "error",
     "traceback": [
      "Error in file(con, \"rb\"): cannot open the connection\n"
     ]
    },
    {
     "data": {
      "text/plain": [
       "plot without title"
      ]
     },
     "metadata": {
      "image/svg+xml": {
       "isolated": true
      }
     },
     "output_type": "display_data"
    }
   ],
   "source": [
    "sp2 <- ggplot(new_fr, aes(colour=scale(traction),trans=\"log\")) +\n",
    "# geom_bar(stat=\"identity\") +\n",
    "geom_point(aes(y=scale(ave_cont_time), x=even_cont,size=lang_gini.x )) \n",
    "\n",
    "sp2 + facet_grid(fund.y ~. )"
   ]
  },
  {
   "cell_type": "code",
   "execution_count": 43,
   "metadata": {
    "collapsed": true
   },
   "outputs": [],
   "source": [
    "#### Adding publication Number"
   ]
  },
  {
   "cell_type": "code",
   "execution_count": 44,
   "metadata": {
    "collapsed": false
   },
   "outputs": [
    {
     "name": "stderr",
     "output_type": "stream",
     "text": [
      "Joining by: \"project_name\"\n",
      "Warning message:\n",
      "In inner_join_impl(x, y, by$x, by$y): joining factors with different levels, coercing to character vector"
     ]
    },
    {
     "data": {
      "text/html": [
       "<table>\n",
       "<thead><tr><th></th><th scope=col>project_name</th><th scope=col>pub_n</th><th scope=col>events_n</th><th scope=col>contributors_n</th><th scope=col>even_cont</th><th scope=col>collb_n</th><th scope=col>id</th><th scope=col>name</th><th scope=col>interview</th><th scope=col>fund</th><th scope=col>ellip.h</th><th scope=col>ave_cont_time2</th><th scope=col>ave_cont_time3</th><th scope=col>traction</th><th scope=col>project_id</th><th scope=col>siz</th><th scope=col>Freq</th><th scope=col>loc_shannon</th><th scope=col>loc_gini</th><th scope=col>lang_shannon</th><th scope=col>lang_gini</th></tr></thead>\n",
       "<tbody>\n",
       "\t<tr><th scope=row>1</th><td>BaCell-SysMO</td><td>80</td><td>229</td><td>8</td><td>1</td><td>25</td><td>1</td><td>BaCell-SysMO</td><td>TRUE</td><td>TRUE</td><td>⋯</td><td>1.642239</td><td>1</td><td>1</td><td>1</td><td>53760</td><td>69</td><td>4.644811</td><td>0.2852961</td><td>4.701184</td><td>0.217737</td></tr>\n",
       "\t<tr><th scope=row>2</th><td>COSMIC</td><td>11</td><td>125</td><td>10</td><td>1</td><td>22</td><td>2</td><td>COSMIC</td><td>FALSE</td><td>TRUE</td><td>⋯</td><td>0.2434442</td><td>0.4926829</td><td>1</td><td>2</td><td>79360</td><td>50</td><td>4.135367</td><td>0.1178571</td><td>4.099547</td><td>0.140625</td></tr>\n",
       "\t<tr><th scope=row>3</th><td>MOSES</td><td>7</td><td>52</td><td>4</td><td>1</td><td>7</td><td>8</td><td>MOSES</td><td>TRUE</td><td>FALSE</td><td>⋯</td><td>0.6603927</td><td>0.6439024</td><td>1</td><td>8</td><td>139620</td><td>10</td><td>3.09036</td><td>0.2169811</td><td>3.017447</td><td>0.287037</td></tr>\n",
       "\t<tr><th scope=row>4</th><td>PSYSMO</td><td>6</td><td>11</td><td>1</td><td>1</td><td>12</td><td>6</td><td>PSYSMO</td><td>FALSE</td><td>FALSE</td><td>⋯</td><td>-0.9939516</td><td>0.04390244</td><td>1</td><td>6</td><td>12135</td><td>9</td><td>3.434429</td><td>0.3671432</td><td>3.583476</td><td>0.2102056</td></tr>\n",
       "\t<tr><th scope=row>5</th><td>STREAM</td><td>16</td><td>18</td><td>1</td><td>1</td><td>10</td><td>10</td><td>STREAM</td><td>FALSE</td><td>FALSE</td><td>⋯</td><td>-0.7115025</td><td>0.1463415</td><td>1</td><td>10</td><td>609792</td><td>8</td><td>1.820778</td><td>0.2735043</td><td>1.89471</td><td>0.1723356</td></tr>\n",
       "\t<tr><th scope=row>6</th><td>SulfoSys</td><td>3</td><td>8</td><td>1</td><td>1</td><td>15</td><td>11</td><td>SulfoSys</td><td>FALSE</td><td>FALSE</td><td>⋯</td><td>-1.115001</td><td>0</td><td>1</td><td>11</td><td>872849</td><td>6</td><td>2.491183</td><td>0.2136095</td><td>2.466172</td><td>0.2168675</td></tr>\n",
       "\t<tr><th scope=row>7</th><td>SUMO</td><td>17</td><td>95</td><td>11</td><td>1</td><td>17</td><td>3</td><td>SUMO</td><td>TRUE</td><td>TRUE</td><td>⋯</td><td>-0.1600544</td><td>0.3463415</td><td>1</td><td>3</td><td>78336</td><td>38</td><td>3.964531</td><td>0.2699507</td><td>4.011719</td><td>0.21</td></tr>\n",
       "\t<tr><th scope=row>8</th><td>SysMO-LAB</td><td>11</td><td>97</td><td>16</td><td>1</td><td>12</td><td>5</td><td>SysMO-LAB</td><td>TRUE</td><td>TRUE</td><td>⋯</td><td>-0.1331545</td><td>0.3560976</td><td>1</td><td>5</td><td>74496</td><td>46</td><td>4.885787</td><td>0.2598015</td><td>4.950155</td><td>0.1825397</td></tr>\n",
       "\t<tr><th scope=row>9</th><td>TRANSLUCENT</td><td>13</td><td>13</td><td>2</td><td>1</td><td>13</td><td>9</td><td>TRANSLUCENT</td><td>FALSE</td><td>TRUE</td><td>⋯</td><td>-0.9132518</td><td>0.07317073</td><td>1</td><td>9</td><td>55969</td><td>717</td><td>2.432678</td><td>0.4275114</td><td>2.625377</td><td>0.2797619</td></tr>\n",
       "</tbody>\n",
       "</table>\n"
      ],
      "text/latex": [
       "\\begin{tabular}{r|lllllllllllllllllllllllll}\n",
       "  & project_name & pub_n & events_n & contributors_n & even_cont & collb_n & id & name & interview & fund & ellip.h & ave_cont_time2 & ave_cont_time3 & traction & project_id & siz & Freq & loc_shannon & loc_gini & lang_shannon & lang_gini\\\\\n",
       "\\hline\n",
       "\t1 & BaCell-SysMO & 80 & 229 & 8 & 1 & 25 & 1 & BaCell-SysMO & TRUE & TRUE & ⋯ & 1.642239 & 1 & 1 & 1 & 53760 & 69 & 4.644811 & 0.2852961 & 4.701184 & 0.217737\\\\\n",
       "\t2 & COSMIC & 11 & 125 & 10 & 1 & 22 & 2 & COSMIC & FALSE & TRUE & ⋯ & 0.2434442 & 0.4926829 & 1 & 2 & 79360 & 50 & 4.135367 & 0.1178571 & 4.099547 & 0.140625\\\\\n",
       "\t3 & MOSES & 7 & 52 & 4 & 1 & 7 & 8 & MOSES & TRUE & FALSE & ⋯ & 0.6603927 & 0.6439024 & 1 & 8 & 139620 & 10 & 3.09036 & 0.2169811 & 3.017447 & 0.287037\\\\\n",
       "\t4 & PSYSMO & 6 & 11 & 1 & 1 & 12 & 6 & PSYSMO & FALSE & FALSE & ⋯ & -0.9939516 & 0.04390244 & 1 & 6 & 12135 & 9 & 3.434429 & 0.3671432 & 3.583476 & 0.2102056\\\\\n",
       "\t5 & STREAM & 16 & 18 & 1 & 1 & 10 & 10 & STREAM & FALSE & FALSE & ⋯ & -0.7115025 & 0.1463415 & 1 & 10 & 609792 & 8 & 1.820778 & 0.2735043 & 1.89471 & 0.1723356\\\\\n",
       "\t6 & SulfoSys & 3 & 8 & 1 & 1 & 15 & 11 & SulfoSys & FALSE & FALSE & ⋯ & -1.115001 & 0 & 1 & 11 & 872849 & 6 & 2.491183 & 0.2136095 & 2.466172 & 0.2168675\\\\\n",
       "\t7 & SUMO & 17 & 95 & 11 & 1 & 17 & 3 & SUMO & TRUE & TRUE & ⋯ & -0.1600544 & 0.3463415 & 1 & 3 & 78336 & 38 & 3.964531 & 0.2699507 & 4.011719 & 0.21\\\\\n",
       "\t8 & SysMO-LAB & 11 & 97 & 16 & 1 & 12 & 5 & SysMO-LAB & TRUE & TRUE & ⋯ & -0.1331545 & 0.3560976 & 1 & 5 & 74496 & 46 & 4.885787 & 0.2598015 & 4.950155 & 0.1825397\\\\\n",
       "\t9 & TRANSLUCENT & 13 & 13 & 2 & 1 & 13 & 9 & TRANSLUCENT & FALSE & TRUE & ⋯ & -0.9132518 & 0.07317073 & 1 & 9 & 55969 & 717 & 2.432678 & 0.4275114 & 2.625377 & 0.2797619\\\\\n",
       "\\end{tabular}\n"
      ],
      "text/plain": [
       "Source: local data frame [9 x 25]\n",
       "\n",
       "  project_name pub_n events_n contributors_n  even_cont collb_n    id\n",
       "         (chr) (int)    (int)          (int)      (dbl)   (int) (int)\n",
       "1 BaCell-SysMO    80      229              8  1.2806873      25     1\n",
       "2       COSMIC    11      125             10 -0.1861582      22     2\n",
       "3        MOSES     7       52              4 -0.1406746       7     8\n",
       "4       PSYSMO     6       11              1 -0.3226090      12     6\n",
       "5       STREAM    16       18              1  0.3141612      10    10\n",
       "6     SulfoSys     3        8              1 -0.5955104      15    11\n",
       "7         SUMO    17       95             11 -0.5376222      17     3\n",
       "8    SysMO-LAB    11       97             16 -0.7717593      12     5\n",
       "9  TRANSLUCENT    13       13              2 -0.7319612      13     9\n",
       "Variables not shown: name (fctr), interview (lgl), fund (chr), openShare (lgl),\n",
       "  activity (lgl), lifetime (dbl), active (dbl), ave_cont_time (dbl),\n",
       "  ave_cont_time2 (dbl), ave_cont_time3 (dbl), traction (dbl), project_id (int),\n",
       "  siz (dbl), Freq (int), loc_shannon (dbl), loc_gini (dbl), lang_shannon (dbl),\n",
       "  lang_gini (dbl)"
      ]
     },
     "execution_count": 44,
     "metadata": {},
     "output_type": "execute_result"
    }
   ],
   "source": [
    "pubdata <- read.csv(file=paste0(\"/Users/kristian/Dropbox/case_sysmo/Data/pub_data/output-cleaned.csv\"),sep=\",\",head=TRUE)\n",
    "\n",
    "pubdata_cle = pubdata %>% mutate(date_s = as.character(date_full),\n",
    "    date_n = as.Date((date_s)))\n",
    "\n",
    "r <- pubdata_cle %>% group_by(project_name) %>%\n",
    "    arrange(date_n) %>%\n",
    "    summarise(pub_n = n())\n",
    "\n",
    "\n",
    "f = inner_join(r,x)\n",
    "f"
   ]
  },
  {
   "cell_type": "code",
   "execution_count": null,
   "metadata": {
    "collapsed": true
   },
   "outputs": [],
   "source": []
  },
  {
   "cell_type": "code",
   "execution_count": null,
   "metadata": {
    "collapsed": true
   },
   "outputs": [],
   "source": []
  },
  {
   "cell_type": "code",
   "execution_count": null,
   "metadata": {
    "collapsed": true
   },
   "outputs": [],
   "source": []
  },
  {
   "cell_type": "code",
   "execution_count": null,
   "metadata": {
    "collapsed": true
   },
   "outputs": [],
   "source": []
  }
 ],
 "metadata": {
  "kernelspec": {
   "display_name": "R",
   "language": "R",
   "name": "ir"
  },
  "language_info": {
   "codemirror_mode": "r",
   "file_extension": ".r",
   "mimetype": "text/x-r-source",
   "name": "R",
   "pygments_lexer": "r",
   "version": "3.2.3"
  }
 },
 "nbformat": 4,
 "nbformat_minor": 0
}
