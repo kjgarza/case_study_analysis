{
 "cells": [
  {
   "cell_type": "markdown",
   "metadata": {},
   "source": [
    "# Descriptive statistics of Sysmo\n",
    "\n",
    "\n",
    "Here I need to show all the descriptive stadistics by project, group and all the collaboration.\n"
   ]
  },
  {
   "cell_type": "code",
   "execution_count": 1,
   "metadata": {
    "collapsed": false,
    "scrolled": true
   },
   "outputs": [
    {
     "name": "stdout",
     "output_type": "stream",
     "text": [
      "Populating the interactive namespace from numpy and matplotlib\n",
      "Populating the interactive namespace from numpy and matplotlib\n"
     ]
    },
    {
     "name": "stderr",
     "output_type": "stream",
     "text": [
      "WARNING: pylab import has clobbered these variables: ['xlim', 'ylim']\n",
      "`%matplotlib` prevents importing * from pylab and numpy\n",
      "WARNING: pylab import has clobbered these variables: ['pylab']\n",
      "`%matplotlib` prevents importing * from pylab and numpy\n"
     ]
    }
   ],
   "source": [
    "# %matplotlib inline\n",
    "# matplotlib.rcParams['figure.figsize'] = (15.0, 8.0)\n",
    "import numpy as np\n",
    "import pandas as pd\n",
    "import matplotlib.pyplot as plt\n",
    "import pandas.rpy.common as com\n",
    "import seaborn as sns\n",
    "from wordcloud import WordCloud\n",
    "from ggplot import *\n",
    "import json\n",
    "%pylab inline\n",
    "%load_ext rpy2.ipython\n",
    "%reload_ext rpy2.ipython\n",
    "##%load_ext rmagic\n",
    "import pylab\n",
    "%pylab inline\n",
    "pylab.rcParams['figure.figsize'] = (15, 6)\n"
   ]
  },
  {
   "cell_type": "code",
   "execution_count": 8,
   "metadata": {
    "collapsed": false
   },
   "outputs": [
    {
     "name": "stderr",
     "output_type": "stream",
     "text": [
      "/Users/kristian/miniconda/lib/python2.7/site-packages/rpy2/robjects/functions.py:106: UserWarning: trying URL 'http://irkernel.github.io/bin/macosx/mavericks/contrib/3.2/IRdisplay_0.3.tgz'\n",
      "\n",
      "  res = super(Function, self).__call__(*new_args, **new_kwargs)\n",
      "/Users/kristian/miniconda/lib/python2.7/site-packages/rpy2/robjects/functions.py:106: UserWarning: Content type 'application/octet-stream'\n",
      "  res = super(Function, self).__call__(*new_args, **new_kwargs)\n",
      "/Users/kristian/miniconda/lib/python2.7/site-packages/rpy2/robjects/functions.py:106: UserWarning:  length 21391 bytes (20 KB)\n",
      "\n",
      "  res = super(Function, self).__call__(*new_args, **new_kwargs)\n",
      "/Users/kristian/miniconda/lib/python2.7/site-packages/rpy2/robjects/functions.py:106: UserWarning: =\n",
      "  res = super(Function, self).__call__(*new_args, **new_kwargs)\n",
      "/Users/kristian/miniconda/lib/python2.7/site-packages/rpy2/robjects/functions.py:106: UserWarning: \n",
      "\n",
      "  res = super(Function, self).__call__(*new_args, **new_kwargs)\n",
      "/Users/kristian/miniconda/lib/python2.7/site-packages/rpy2/robjects/functions.py:106: UserWarning: downloaded 20 KB\n",
      "\n",
      "\n",
      "  res = super(Function, self).__call__(*new_args, **new_kwargs)\n",
      "/Users/kristian/miniconda/lib/python2.7/site-packages/rpy2/robjects/functions.py:106: UserWarning: installing the source packages ‘repr’, ‘IRkernel’\n",
      "\n",
      "\n",
      "  res = super(Function, self).__call__(*new_args, **new_kwargs)\n",
      "/Users/kristian/miniconda/lib/python2.7/site-packages/rpy2/robjects/functions.py:106: UserWarning: trying URL 'http://irkernel.github.io/src/contrib/repr_0.4.tar.gz'\n",
      "\n",
      "  res = super(Function, self).__call__(*new_args, **new_kwargs)\n",
      "/Users/kristian/miniconda/lib/python2.7/site-packages/rpy2/robjects/functions.py:106: UserWarning:  length 11355 bytes (11 KB)\n",
      "\n",
      "  res = super(Function, self).__call__(*new_args, **new_kwargs)\n",
      "/Users/kristian/miniconda/lib/python2.7/site-packages/rpy2/robjects/functions.py:106: UserWarning: downloaded 11 KB\n",
      "\n",
      "\n",
      "  res = super(Function, self).__call__(*new_args, **new_kwargs)\n",
      "/Users/kristian/miniconda/lib/python2.7/site-packages/rpy2/robjects/functions.py:106: UserWarning: trying URL 'http://irkernel.github.io/src/contrib/IRkernel_0.5.tar.gz'\n",
      "\n",
      "  res = super(Function, self).__call__(*new_args, **new_kwargs)\n",
      "/Users/kristian/miniconda/lib/python2.7/site-packages/rpy2/robjects/functions.py:106: UserWarning:  length 17951 bytes (17 KB)\n",
      "\n",
      "  res = super(Function, self).__call__(*new_args, **new_kwargs)\n",
      "/Users/kristian/miniconda/lib/python2.7/site-packages/rpy2/robjects/functions.py:106: UserWarning: downloaded 17 KB\n",
      "\n",
      "\n",
      "  res = super(Function, self).__call__(*new_args, **new_kwargs)\n",
      "/Users/kristian/miniconda/lib/python2.7/site-packages/rpy2/robjects/functions.py:106: UserWarning: In addition: \n",
      "  res = super(Function, self).__call__(*new_args, **new_kwargs)\n"
     ]
    },
    {
     "name": "stdout",
     "output_type": "stream",
     "text": [
      "--- Please select a CRAN mirror for use in this session ---\n",
      "--- Please select a CRAN mirror for use in this session ---\n",
      "\n",
      "  There are binary versions available but the source versions are later:\n",
      "         binary source needs_compilation\n",
      "repr        0.2    0.4             FALSE\n",
      "IRkernel    0.4    0.5             FALSE\n",
      "\n",
      "--- Please select a CRAN mirror for use in this session ---\n",
      "\n",
      "The downloaded binary packages are in\n",
      "\t/var/folders/hk/r83tf3z95rs1gqcjf02dq2jr0000gp/T//RtmpG0N2HO/downloaded_packages\n",
      "\n",
      "The downloaded source packages are in\n",
      "\t‘/private/var/folders/hk/r83tf3z95rs1gqcjf02dq2jr0000gp/T/RtmpG0N2HO/downloaded_packages’\n",
      "Error in loadNamespace(name) : there is no package called ‘IRkernel’\n"
     ]
    },
    {
     "name": "stderr",
     "output_type": "stream",
     "text": [
      "/Users/kristian/miniconda/lib/python2.7/site-packages/rpy2/robjects/functions.py:106: UserWarning: Warning message:\n",
      "\n",
      "  res = super(Function, self).__call__(*new_args, **new_kwargs)\n",
      "/Users/kristian/miniconda/lib/python2.7/site-packages/rpy2/robjects/functions.py:106: UserWarning: In install.packages(c(\"repr\", \"IRkernel\", \"IRdisplay\"), repos = c(\"http://irkernel.github.io/\",  :\n",
      "  res = super(Function, self).__call__(*new_args, **new_kwargs)\n",
      "/Users/kristian/miniconda/lib/python2.7/site-packages/rpy2/robjects/functions.py:106: UserWarning: \n",
      " \n",
      "  res = super(Function, self).__call__(*new_args, **new_kwargs)\n",
      "/Users/kristian/miniconda/lib/python2.7/site-packages/rpy2/robjects/functions.py:106: UserWarning:  installation of package ‘IRkernel’ had non-zero exit status\n",
      "\n",
      "  res = super(Function, self).__call__(*new_args, **new_kwargs)\n"
     ]
    }
   ],
   "source": [
    "%%R\n",
    "install.packages(c('repr', 'IRkernel', 'IRdisplay'),repos = c('http://irkernel.github.io/', getOption('repos')))\n",
    "IRkernel::installspec()"
   ]
  },
  {
   "cell_type": "markdown",
   "metadata": {},
   "source": [
    "\n",
    "### Load the Data\n"
   ]
  },
  {
   "cell_type": "code",
   "execution_count": 2,
   "metadata": {
    "collapsed": false
   },
   "outputs": [
    {
     "name": "stderr",
     "output_type": "stream",
     "text": [
      "/Users/kristian/miniconda/lib/python2.7/site-packages/rpy2/robjects/functions.py:106: UserWarning: \n",
      "Attaching package: ‘ggplot2’\n",
      "\n",
      "\n",
      "  res = super(Function, self).__call__(*new_args, **new_kwargs)\n",
      "/Users/kristian/miniconda/lib/python2.7/site-packages/rpy2/robjects/functions.py:106: UserWarning: The following objects are masked from ‘package:psych’:\n",
      "\n",
      "    %+%, alpha\n",
      "\n",
      "\n",
      "  res = super(Function, self).__call__(*new_args, **new_kwargs)\n",
      "/Users/kristian/miniconda/lib/python2.7/site-packages/rpy2/robjects/functions.py:106: UserWarning: data.table 1.9.6  For help type ?data.table or https://github.com/Rdatatable/data.table/wiki\n",
      "\n",
      "  res = super(Function, self).__call__(*new_args, **new_kwargs)\n",
      "/Users/kristian/miniconda/lib/python2.7/site-packages/rpy2/robjects/functions.py:106: UserWarning: The fastest way to learn (by data.table authors): https://www.datacamp.com/courses/data-analysis-the-data-table-way\n",
      "\n",
      "  res = super(Function, self).__call__(*new_args, **new_kwargs)\n",
      "/Users/kristian/miniconda/lib/python2.7/site-packages/rpy2/robjects/functions.py:106: UserWarning: \n",
      "Attaching package: ‘dplyr’\n",
      "\n",
      "\n",
      "  res = super(Function, self).__call__(*new_args, **new_kwargs)\n",
      "/Users/kristian/miniconda/lib/python2.7/site-packages/rpy2/robjects/functions.py:106: UserWarning: The following object is masked from ‘package:MASS’:\n",
      "\n",
      "    select\n",
      "\n",
      "\n",
      "  res = super(Function, self).__call__(*new_args, **new_kwargs)\n",
      "/Users/kristian/miniconda/lib/python2.7/site-packages/rpy2/robjects/functions.py:106: UserWarning: The following objects are masked from ‘package:data.table’:\n",
      "\n",
      "    between, last\n",
      "\n",
      "\n",
      "  res = super(Function, self).__call__(*new_args, **new_kwargs)\n",
      "/Users/kristian/miniconda/lib/python2.7/site-packages/rpy2/robjects/functions.py:106: UserWarning: The following objects are masked from ‘package:stats’:\n",
      "\n",
      "    filter, lag\n",
      "\n",
      "\n",
      "  res = super(Function, self).__call__(*new_args, **new_kwargs)\n",
      "/Users/kristian/miniconda/lib/python2.7/site-packages/rpy2/robjects/functions.py:106: UserWarning: The following objects are masked from ‘package:base’:\n",
      "\n",
      "    intersect, setdiff, setequal, union\n",
      "\n",
      "\n",
      "  res = super(Function, self).__call__(*new_args, **new_kwargs)\n"
     ]
    }
   ],
   "source": [
    "%%R\n",
    "\n",
    "par(family=\"serif\", las=1, ps=18)\n",
    "\n",
    "source('~/Dropbox/case_sysmo/Scripts/userSysmo.R')\n",
    "source('~/Dropbox/case_sysmo/Scripts/assetsSysmo.R')\n",
    "source('~/Dropbox/case_sysmo/Scripts/projectSysmo.r')\n",
    "source('~/Dropbox/case_sysmo/Scripts/sharedAssetSysmo.r')\n",
    "source('~/Dropbox/case_sysmo/Scripts/contrastCodeSysmo.r')\n",
    "source('~/Dropbox/case_sysmo/Scripts/parallelsetGeneral.r')\n",
    "# source('~/Dropbox/case_sysmo/Scripts/projectsDbM.r')\n",
    "# source('~/Dropbox/case_sysmo/Scripts/sharingSymo.r')\n",
    "# library(plotrix)\n",
    "library(psych)\n",
    "library(ggplot2)\n",
    "library(data.table)\n",
    "library(MASS)\n",
    "library(dplyr)\n",
    "\n",
    "secndR<- as.Date(\"2010-03-01\")  # http://www.bbsrc.ac.uk/pa/grants/AwardDetails.aspx?FundingReference=BB%2FI004637%2F1\n",
    "eval10<- as.Date(\"2010-05-01\")  # http://www.bbsrc.ac.uk/pa/grants/AwardDetails.aspx?FundingReference=BB%2FI004637%2F1\n",
    "eval11<- as.Date(\"2011-02-01\")  \n",
    "eval12<- as.Date(\"2012-05-01\")  # https://seek.sysmo-db.org/presentations/38\n",
    "eval13<- as.Date(\"2013-03-01\")  # https://seek.sysmo-db.org/presentations/85\n",
    "dps_date<- as.Date(\"2011-06-01\")\n",
    "\n",
    "eval1<-eval11\n",
    "eval2<-eval12\n"
   ]
  },
  {
   "cell_type": "code",
   "execution_count": 3,
   "metadata": {
    "collapsed": false
   },
   "outputs": [],
   "source": [
    "%%R\n",
    "\n",
    "processCsv <- function(filename){\n",
    "  r <- read.csv(file=paste0(\"/Users/kristian/Dropbox/case_sysmo/Data/Sysmo/\",filename,\".csv\"),sep=\",\",head=TRUE)\n",
    "  if(length(r$created_at) > 1){\n",
    "    r$ncreated_at <- as.Date(r$created_at)     \n",
    "  }\n",
    "  if(length(r$updated_at) > 1){\n",
    "    r$nupdated_at <- as.Date(r$updated_at)\n",
    "  }\n",
    "  if(length(r$contributor_id) > 1){\n",
    "    r<-r[r$contributor_id != \"NULL\", ]\n",
    "  }\n",
    "  return(r)\n",
    "}\n",
    "\n",
    "# Multiple plot function\n",
    "#\n",
    "# ggplot objects can be passed in ..., or to plotlist (as a list of ggplot objects)\n",
    "# - cols:   Number of columns in layout\n",
    "# - layout: A matrix specifying the layout. If present, 'cols' is ignored.\n",
    "#\n",
    "# If the layout is something like matrix(c(1,2,3,3), nrow=2, byrow=TRUE),\n",
    "# then plot 1 will go in the upper left, 2 will go in the upper right, and\n",
    "# 3 will go all the way across the bottom.\n",
    "#\n",
    "multiplot <- function(..., plotlist=NULL, file, cols=1, layout=NULL) {\n",
    "  require(grid)\n",
    "\n",
    "  # Make a list from the ... arguments and plotlist\n",
    "  plots <- c(list(...), plotlist)\n",
    "\n",
    "  numPlots = length(plots)\n",
    "\n",
    "  # If layout is NULL, then use 'cols' to determine layout\n",
    "  if (is.null(layout)) {\n",
    "    # Make the panel\n",
    "    # ncol: Number of columns of plots\n",
    "    # nrow: Number of rows needed, calculated from # of cols\n",
    "    layout <- matrix(seq(1, cols * ceiling(numPlots/cols)),\n",
    "                    ncol = cols, nrow = ceiling(numPlots/cols))\n",
    "  }\n",
    "\n",
    " if (numPlots==1) {\n",
    "    print(plots[[1]])\n",
    "\n",
    "  } else {\n",
    "    # Set up the page\n",
    "    grid.newpage()\n",
    "    pushViewport(viewport(layout = grid.layout(nrow(layout), ncol(layout))))\n",
    "\n",
    "    # Make each plot, in the correct location\n",
    "    for (i in 1:numPlots) {\n",
    "      # Get the i,j matrix positions of the regions that contain this subplot\n",
    "      matchidx <- as.data.frame(which(layout == i, arr.ind = TRUE))\n",
    "\n",
    "      print(plots[[i]], vp = viewport(layout.pos.row = matchidx$row,\n",
    "                                      layout.pos.col = matchidx$col))\n",
    "    }\n",
    "  }\n",
    "}"
   ]
  },
  {
   "cell_type": "markdown",
   "metadata": {},
   "source": [
    "## Descriptive information about the Collaborations\n",
    "\n",
    "What are the collaborations composition in terms of demographics?\n",
    "\n",
    "We can see that the collaboration are very similar in geographical localtion and in Languages"
   ]
  },
  {
   "cell_type": "code",
   "execution_count": 4,
   "metadata": {
    "collapsed": false
   },
   "outputs": [
    {
     "name": "stdout",
     "output_type": "stream",
     "text": [
      "\n",
      "Error in envRefInferField(x, what, getClass(class(x)), selfEnv) : \n",
      "  ‘loadTable’ is not a valid field or method name for reference class “AssetsTable”\n"
     ]
    },
    {
     "name": "stderr",
     "output_type": "stream",
     "text": [
      "/Users/kristian/miniconda/lib/python2.7/site-packages/rpy2/robjects/functions.py:106: UserWarning: Error in envRefInferField(x, what, getClass(class(x)), selfEnv) : \n",
      "  ‘loadTable’ is not a valid field or method name for reference class “AssetsTable”\n",
      "\n",
      "  res = super(Function, self).__call__(*new_args, **new_kwargs)\n"
     ]
    }
   ],
   "source": [
    "%%R\n",
    "a <- AssetsTable$new(type = \"data_file\")\n",
    "a$loadTable()"
   ]
  },
  {
   "cell_type": "code",
   "execution_count": null,
   "metadata": {
    "collapsed": false
   },
   "outputs": [],
   "source": [
    "%%R -o pro_data\n",
    "print(projectContBySize())\n",
    "print(getProjInfo())\n",
    "print(getProjectMore())\n",
    "pro_data<-getProjectMore()\n",
    "print(names(pro_data))"
   ]
  },
  {
   "cell_type": "markdown",
   "metadata": {
    "collapsed": false
   },
   "source": [
    "## Collaborations Self-deposition\n",
    "\n",
    "In terms of seldopistion how were the collaborations sef-depositing \"competitive datasets\"\n",
    "\n",
    "> **competitive datasets**: are materials (e.g. datafiles, models, sop) excludes outputs (e.g. presentations, paper, etc)\n"
   ]
  },
  {
   "cell_type": "code",
   "execution_count": null,
   "metadata": {
    "collapsed": false
   },
   "outputs": [],
   "source": [
    "%%R -o ds -o pdf -o pdf2 -o pdf4\n",
    "\n",
    "ds<-getLogBy(\"create\",239)\n",
    "\n",
    "\n",
    "ds$project_name <- factor(ds$project_name, levels = c(\"COSMIC\",  \"SysMO-LAB\", \"BaCell-SysMO\",\"SUMO\", \"SilicoTryp\",\"MOSES\"))\n",
    "\n",
    "ds<-ds[(ds$action %in% c(\"create\")),]\n",
    "ds<-ds[!(ds$activity_loggable_type %in% c(\"Publication\")),]\n",
    "ds<-ds[!(ds$activity_loggable_type %in% c(\"Study\")),]\n",
    "ds<-ds[!(ds$activity_loggable_type %in% c(\"Presentation\")),]\n",
    "ds<-ds[!(ds$activity_loggable_type %in% c(\"Investigation\")),]\n",
    "\n",
    "dx <- as.data.table(ds)\n",
    "setkeyv(dx, cols=c('ncreated_at',\"project_name\",\"activity_loggable_type\"))\n",
    "ds <- dx[, list(count=.N), by=c('ncreated_at',\"project_name\",\"activity_loggable_type\")]\n",
    "\n",
    "ds<-ds[(ds$project_name %in% c(\"COSMIC\", \"SUMO\", \"MOSES\",\"SysMO-LAB\",\"SilicoTryp\", \"BaCell-SysMO\")),]\n",
    "\n",
    "ds$Date<-ds$ncreated_at\n",
    "ds$Asset_type<-ds$activity_loggable_type\n",
    "ds$Activity<-ds$count\n",
    "\n",
    "ds1 <- ds\n",
    "pdf <- ds1 %>% group_by(project_name) %>% arrange(Date)  %>% mutate(cmml = cumsum(Activity))\n",
    "\n",
    "\n",
    "\n",
    "\n",
    "pdf <- pdf %>% group_by(project_name)  %>% mutate(norm = (Activity-min(Activity))/(max(Activity)-min(Activity)))\n",
    "pdf4 <- ds1 %>% group_by(project_name)  %>% mutate(norm = (Activity-min(Activity))/(max(Activity)-min(Activity)))\n",
    "ds2 <- ds\n",
    "pdf2 <- ds2  %>% arrange(Date)  %>% mutate(cmml = cumsum(Activity))\n"
   ]
  },
  {
   "cell_type": "markdown",
   "metadata": {},
   "source": [
    "#### Plotting\n",
    "\n",
    "1. Self-deposition events\n",
    "1. Cummulative Self-deposition events\n",
    "1. Cummulative Self-deposition events Aggregated\n",
    "\n",
    "> Add a column for control and experimental. MOSES is out of the norms"
   ]
  },
  {
   "cell_type": "code",
   "execution_count": null,
   "metadata": {
    "collapsed": false
   },
   "outputs": [],
   "source": [
    "%%R -i pdf -i pdf2 -i pdf4\n",
    "\n",
    "\n",
    "\n",
    "sp <- ggplot(pdf4, aes(x=Date, y=norm, group=Asset_type, color=Asset_type))  + geom_bar(stat=\"identity\") \n",
    "p1 <- sp + facet_grid(project_name ~ . , scales=\"free_y\")       + geom_vline(xintercept = as.numeric(eval11), linetype=5)   + geom_vline(xintercept = as.numeric(eval12), linetype=5)  + geom_vline(xintercept = as.numeric(eval13), linetype=5)   + geom_vline(xintercept = as.numeric(dps_date), linetype=3)\n",
    "ggsave(\"~/Dropbox/case_sysmo/images/figcontributionevetns.png\")\n",
    "\n",
    "cmmlp <- ggplot(pdf, aes(x=Date, y=cmml))  +  \n",
    "geom_rect(data = pdf,alpha = 0.3,aes(fill = project_name),xmin = -Inf,xmax = Inf, ymin = -Inf,ymax = Inf) +\n",
    "geom_step() + \n",
    "geom_point(aes(colour = norm+0.1)) +  scale_colour_gradient(trans=\"log\") #+  geom_line( aes(x=Date, y=2*cmml)) #geom_histogram(aes(y = 3*..density..), alpha = 0.2, binwidth = 3) + stat_ecdf(aes(x = Activity))\n",
    "p2 <- cmmlp + facet_grid(project_name ~ ., scales=\"free_y\" )  + geom_vline(xintercept = as.numeric(eval11), linetype=5)   + geom_vline(xintercept = as.numeric(eval12), linetype=5)  + geom_vline(xintercept = as.numeric(eval13), linetype=5)   + geom_vline(xintercept = as.numeric(dps_date), linetype=3) \n",
    "\n",
    "\n",
    "ggsave(\"~/Dropbox/case_sysmo/images/figcontributioncmmlbyproject.png\")\n",
    "\n",
    "cmmlpagg <- ggplot(pdf2, aes(x=Date, y=cmml)) + \n",
    "geom_rect(aes(xmin=eval13 - 30, xmax=eval13 + 30, ymin=0, ymax=Inf), fill=\"grey70\",alpha=0.5)  +  \n",
    "geom_step() +  geom_point(aes(colour = Activity))#+  geom_line( aes(x=Date, y=2*cmml)) #geom_histogram(aes(y = 3*..density..), alpha = 0.2, binwidth = 3) + stat_ecdf(aes(x = Activity))\n",
    "\n",
    "p3 <- cmmlpagg  + geom_vline(xintercept = as.numeric(eval11), linetype=5)   + \n",
    "geom_vline(xintercept = as.numeric(eval12), linetype=5)  + \n",
    "geom_vline(xintercept = as.numeric(eval13), linetype=5)    \n",
    "ggsave(\"~/Dropbox/case_sysmo/images/figcontributioncmml.png\")\n",
    "\n",
    "multiplot(p1,p2,p3, cols=2)\n"
   ]
  },
  {
   "cell_type": "markdown",
   "metadata": {},
   "source": [
    "The Self-contribution activity can be also seen in term of intensitive\n",
    "\n",
    "4. We can also see which periods were more intense for the collaborations"
   ]
  },
  {
   "cell_type": "code",
   "execution_count": null,
   "metadata": {
    "collapsed": false
   },
   "outputs": [],
   "source": [
    "%%R\n",
    "\n",
    "require(quantmod)\n",
    "require(ggplot2)\n",
    "require(reshape2)\n",
    "require(plyr)\n",
    "require(scales)\n",
    "\n",
    "dat<-pdf4 \n",
    "\n",
    "dat$date<-dat$ncreated_at\n",
    "\n",
    "\n",
    "# We will facet by year ~ month, and each subgraph will\n",
    "# show week-of-month versus weekday\n",
    "# the year is simple\n",
    "dat$year<-as.numeric(as.POSIXlt(dat$date)$year+1900)\n",
    "# the month too \n",
    "dat$month<-as.numeric(as.POSIXlt(dat$date)$mon+1)\n",
    "# but turn months into ordered facors to control the appearance/ordering in the presentation\n",
    "dat$monthf<-factor(dat$month,levels=as.character(1:12),labels=c(\"Jan\",\"Feb\",\"Mar\",\"Apr\",\"May\",\"Jun\",\"Jul\",\"Aug\",\"Sep\",\"Oct\",\"Nov\",\"Dec\"),ordered=TRUE)\n",
    "# the day of week is again easily found\n",
    "dat$weekday = as.POSIXlt(dat$date)$wday\n",
    "# again turn into factors to control appearance/abbreviation and ordering\n",
    "# I use the reverse function rev here to order the week top down in the graph\n",
    "# you can cut it out to reverse week order\n",
    "dat$weekdayf<-factor(dat$weekday,levels=rev(1:7),labels=rev(c(\"Mon\",\"Tue\",\"Wed\",\"Thu\",\"Fri\",\"Sat\",\"Sun\")),ordered=TRUE)\n",
    "# the monthweek part is a bit trickier \n",
    "# first a factor which cuts the data into month chunks\n",
    "dat$yearmonth<-as.yearmon(dat$date)\n",
    "dat$yearmonthf<-factor(dat$yearmonth)\n",
    "# then find the \"week of year\" for each day\n",
    "dat$week <- as.numeric(format(dat$date,\"%W\"))\n",
    "# and now for each monthblock we normalize the week to start at 1 \n",
    "dat<-ddply(dat,.(yearmonthf),transform,monthweek=1+week-min(week))\n",
    "\n",
    "\n"
   ]
  },
  {
   "cell_type": "code",
   "execution_count": null,
   "metadata": {
    "collapsed": false
   },
   "outputs": [],
   "source": [
    "%%R\n",
    "# Now for the plot\n",
    "#P<- ggplot(dat, aes(monthweek, weekdayf, fill = VIX.Close)) + geom_tile(colour = \"white\") + facet_grid(year~monthf) + scale_fill_gradient(low=\"red\", high=\"yellow\") +   xlab(\"Week of Month\") + ylab(\"\")\n",
    "P<- ggplot(dat, aes(year,monthf, fill = norm)) +\n",
    "geom_tile(colour = \"white\")  + scale_fill_gradient(low = \"blue\", high=\"red\",  trans=\"log\") + \n",
    "xlab(\"Week of Month\") + ylab(\"\")\n",
    "\n",
    "\n",
    "\n",
    "p3 <- cmmlpagg  + geom_vline(xintercept = as.numeric(eval11), linetype=5)   + \n",
    "geom_vline(xintercept = as.numeric(eval12), linetype=5)  + \n",
    "geom_vline(xintercept = as.numeric(eval13), linetype=5)    \n",
    "ggsave(\"~/Dropbox/case_sysmo/images/figcontributioncmml.png\")\n",
    "\n",
    "\n",
    "\n",
    "multiplot(P,p3, cols=1)\n",
    "ggsave(\"~/Dropbox/case_sysmo/images/figcontributionStrength.png\")"
   ]
  },
  {
   "cell_type": "markdown",
   "metadata": {},
   "source": [
    "# Self-depostions differences Shared vs Restricted\n",
    "\n",
    "\n",
    "- What are the number of assets shared to assets restricted?\n"
   ]
  },
  {
   "cell_type": "code",
   "execution_count": null,
   "metadata": {
    "collapsed": false
   },
   "outputs": [],
   "source": [
    "%%R\n",
    "# d<-getOpenAssets('data_file')\n",
    "# d<-getOpenAssets('model')\n",
    "# d<-getOpenAssets('sop')\n",
    "# print(head(d))\n",
    "\n",
    "# print(processSharingReportSharing(\"model\",8))\n",
    "# print(processSharingReportSum(2))\n",
    "\n",
    "# print(isOpenShared(getAllresc(0)))\n",
    "\n",
    "\n",
    "dat<-isOpenShared(getAllresc(0))\n",
    "\n",
    "dat$project_name <- factor(dat$project_name, levels = c(\"COSMIC\",  \"SysMO-LAB\", \"BaCell-SysMO\",\"SUMO\", \"SilicoTryp\",\"MOSES\"))\n",
    "\n",
    "\n",
    "dat <- as.data.table(dat)\n",
    "setkeyv(dat, cols=c('ncreated_at',\"project_name\",\"lab\",\"type\"))\n",
    "dat <- dat[, list(count=.N), by=c('ncreated_at',\"project_name\",\"lab\",\"type\")]\n",
    "\n",
    "dat<-dat[(dat$project_name %in% c(\"COSMIC\", \"SUMO\", \"MOSES\",\"SysMO-LAB\",\"SilicoTryp\", \"BaCell-SysMO\")),]\n",
    "\n",
    "dat1 <- dat\n",
    "\n",
    "dat1$type[dat1$type != \"Publication\"] <- \"Datasets\"  \n",
    "\n",
    "pdf3 <- dat1 %>% group_by(project_name) %>% arrange(lab) %>% arrange(type) %>% mutate(norm = (count-min(count))/(max(count)-min(count)))\n",
    "# pdf3 <- dat1 %>% group_by(lab)  %>% mutate(norm = (count-min(count))/(max(count)-min(count)))\n",
    "\n",
    "\n"
   ]
  },
  {
   "cell_type": "code",
   "execution_count": null,
   "metadata": {
    "collapsed": false
   },
   "outputs": [],
   "source": [
    "%%R\n",
    "\n",
    "p1<- ggplot(pdf3, aes(project_name,norm,  fill = (lab))) + geom_bar(stat=\"identity\",position=\"dodge\") \n",
    "p5<-p1 #+ facet_grid(project_name ~ . , scales=\"free_y\")\n",
    "\n",
    "\n",
    "ggsave(\"~/Dropbox/case_sysmo/images/figdatashasedall.png\")\n",
    "\n",
    "p1<- ggplot(pdf3, aes(ncreated_at,norm,  fill = (lab))) + geom_bar(stat=\"identity\")  \n",
    "p4<- p1 + facet_grid(project_name ~ . , scales=\"free_y\")\n",
    "\n",
    "multiplot(p5,p4, cols=1)\n",
    "ggsave(\"~/Dropbox/case_sysmo/images/figdatashasedalltime.png\")"
   ]
  },
  {
   "cell_type": "markdown",
   "metadata": {},
   "source": [
    "### Difference between disciplines\n",
    "\n",
    "- How do they contribute?\n",
    "- Which one does more general sharing?"
   ]
  },
  {
   "cell_type": "code",
   "execution_count": null,
   "metadata": {
    "collapsed": false
   },
   "outputs": [],
   "source": [
    "%%R\n",
    "\n",
    "dat<-dat[!(dat$type %in% c(\"sop\")),]\n",
    "\n",
    "dats = dat\n",
    "\n",
    "names(pro_data)[names(pro_data)==\"count\"] <- \"many\"\n",
    "\n",
    "print(head(dat))\n",
    "dats3<- merge(dats, pro_data)\n",
    "\n",
    "print(head(dats3))\n",
    "\n",
    "pdf4 <- dats3 %>% group_by(project_name) %>% arrange(lab) %>% arrange(type) %>% mutate(norm = (count-min(count))/(max(count)-min(count))/participants) \n",
    "\n",
    "print(head(pdf4))\n",
    "p1<- ggplot(pdf4, aes(project_name, norm,  fill = (lab))) + geom_bar(stat=\"identity\",position=\"dodge\") \n",
    "p6<-p1 # + facet_grid(type ~ project_name , scales=\"free_y\")\n",
    "\n",
    "multiplot(p6, cols=1)\n",
    "ggsave(\"~/Dropbox/case_sysmo/images/figdatashaseddisc.png\")"
   ]
  },
  {
   "cell_type": "markdown",
   "metadata": {},
   "source": [
    "> Need to validate agains my otehr routines\n",
    "\n",
    "> processSharingReportDiscipline()\n",
    "\n",
    "> graphSharingReportDiscipline()"
   ]
  },
  {
   "cell_type": "code",
   "execution_count": null,
   "metadata": {
    "collapsed": false
   },
   "outputs": [],
   "source": [
    "%%R -o ds -o pdf -o pdf2 -o pdf4\n",
    "\n",
    "ds<-getLogBy(\"update\",239)\n",
    "\n",
    "\n",
    "ds$project_name <- factor(ds$project_name, levels = c(\"COSMIC\",  \"SysMO-LAB\", \"BaCell-SysMO\",\"SUMO\", \"SilicoTryp\",\"MOSES\"))\n",
    "\n",
    "ds<-ds[(ds$action %in% c(\"update\")),]\n",
    "ds<-ds[!(ds$activity_loggable_type %in% c(\"Publication\")),]\n",
    "ds<-ds[!(ds$activity_loggable_type %in% c(\"Study\")),]\n",
    "ds<-ds[!(ds$activity_loggable_type %in% c(\"Presentation\")),]\n",
    "ds<-ds[!(ds$activity_loggable_type %in% c(\"Investigation\")),]\n",
    "\n",
    "\n",
    "dx <- as.data.table(ds)\n",
    "setkeyv(dx, cols=c('ncreated_at',\"project_name\",\"activity_loggable_type\"))\n",
    "ds <- dx[, list(count=.N), by=c('ncreated_at',\"project_name\",\"activity_loggable_type\")]\n",
    "\n",
    "ds<-ds[(ds$project_name %in% c(\"COSMIC\", \"SUMO\", \"MOSES\",\"SysMO-LAB\",\"SilicoTryp\", \"BaCell-SysMO\")),]\n",
    "\n",
    "ds$Date<-ds$ncreated_at\n",
    "ds$Asset_type<-ds$activity_loggable_type\n",
    "ds$Activity<-ds$count\n",
    "ds <- ds %>% group_by(activity_loggable_type)  %>% mutate(norm = (count-min(count))/(max(count)-min(count)))\n"
   ]
  },
  {
   "cell_type": "code",
   "execution_count": null,
   "metadata": {
    "collapsed": false
   },
   "outputs": [],
   "source": [
    "%%R\n",
    "print(head(ds))\n",
    "\n",
    "p1<- ggplot(ds, aes(activity_loggable_type,norm)) + geom_bar(stat=\"identity\",position=\"dodge\") \n",
    "p1"
   ]
  },
  {
   "cell_type": "code",
   "execution_count": null,
   "metadata": {
    "collapsed": false
   },
   "outputs": [],
   "source": [
    "%%R -o projectLog \n",
    "\n",
    "graphVerDistribution()\n",
    "\n",
    "projectLog<-getLogBy(\"create\",239)\n",
    "\n",
    "\n",
    "graphLogs2<-function(type,xuser){\n",
    "    library(ggplot2)\n",
    "\n",
    "    ds<-getLogBy(type,xuser)\n",
    "    \n",
    "    \n",
    "#     ds<-ds[(ds$project_name %in% c(\"COSMIC\", \"SUMO\", \"MOSES\",\"SysMO-LAB\",\"SilicoTryp\", \"BaCell-SysMO\")),]\n",
    "\n",
    "\n",
    "    if(type == \"create\"){\n",
    "#      ds<-ds[!(ds$activity_loggable_type %in% c(\"Publication\")),]\n",
    "     ds<-ds[!(ds$activity_loggable_type %in% c(\"Study\")),]\n",
    "     ds<-ds[!(ds$activity_loggable_type %in% c(\"Presentation\")),]\n",
    "     ds<-ds[!(ds$activity_loggable_type %in% c(\"Investigation\")),]\n",
    "    }\n",
    "\n",
    "    ds <- as.data.table(ds)\n",
    "    setkeyv(ds, cols=c('ncreated_at',\"project_name\",\"activity_loggable_type\"))\n",
    "    ds <- ds[, list(count=.N), by=c('ncreated_at',\"project_name\",\"activity_loggable_type\")]\n",
    "\n",
    "    ds$Date<-ds$ncreated_at\n",
    "    ds$Asset_type<-ds$activity_loggable_type\n",
    "    ds$Activity<-ds$count\n",
    "    dps_date<- as.Date(\"2011-06-01\")\n",
    "#     ds$Asset_type <- as.character(ds$Asset_type)\n",
    "    ds$Asset_type[ds$Asset_type != \"Publication\"] <- \"X\"    \n",
    "\n",
    "#     ds$Asset_type[ds$Asset_type == \"Publication\"] <- \"apublication\"\n",
    "\n",
    "    \n",
    "    rects <- data.frame(xstart = as.Date('2011-03-27'), xend = as.Date('2012-03-27'))\n",
    "\n",
    "\n",
    "\n",
    "    sp <- ggplot(ds, aes(x=Date, y=Activity, group=Asset_type, color=Asset_type))  + geom_bar(stat=\"identity\") \n",
    "    sp + facet_grid(project_name ~ . , scales=\"free_y\")   + geom_vline(xintercept = as.numeric(eval11), linetype=5)   + geom_vline(xintercept = as.numeric(eval12), linetype=5)  + geom_vline(xintercept = as.numeric(eval13), linetype=5)   + geom_vline(xintercept = as.numeric(dps_date), linetype=3)    \n",
    "\n",
    "\n",
    "    \n",
    "}\n",
    "\n",
    "graphLogs2(\"create\",239)\n"
   ]
  },
  {
   "cell_type": "code",
   "execution_count": null,
   "metadata": {
    "collapsed": false
   },
   "outputs": [],
   "source": [
    "%%R\n",
    "\n",
    "graphDSPEffect<-function(){\n",
    "    # layout(matrix(c(1,2,3,4),2,2,))\n",
    "    layout(matrix(c(1,2,3),1,2))\n",
    "\n",
    "    data <-processCsv(\"data_files\")\n",
    "\n",
    "        ds<-getLogBy(\"create\",239)\n",
    "    \n",
    "#     type <- \"create\"\n",
    "#         if(type == \"create\"){\n",
    "#         # ds<-ds[!(ds$activity_loggable_type %in% c(\"Publication\")),]\n",
    "#          ds<-ds[!(ds$activity_loggable_type %in% c(\"Study\")),]\n",
    "#          ds<-ds[!(ds$activity_loggable_type %in% c(\"Presentation\")),]\n",
    "#          ds<-ds[!(ds$activity_loggable_type %in% c(\"Investigation\")),]\n",
    "#         }    \n",
    "#         data<-ds\n",
    "\n",
    "       r <- data\n",
    " \n",
    "    x<-graphVerDistribution(r)\n",
    "\n",
    "     data <-processCsv(\"data_files\")   \n",
    "    \n",
    "    r <- data[data$ncreated_at < \"2011-06-05\",]\n",
    "    r <- r[r$ncreated_at > \"2011-01-01\",]\n",
    " \n",
    "    b<-graphVerDistribution(r)\n",
    "\n",
    "\n",
    "\n",
    "\n",
    "    mtext( \"Before 2011-May\", side=3)\n",
    "\n",
    "    # Size distribution\n",
    "    # data2 <-joinSize(data,\"data_files\")\n",
    "    # r2 <- data2[data2$ncreated_at < \"2011-05-05\",]\n",
    "    # graphFileSizeDistribution(r2)\n",
    "\n",
    "    # mtext( \"Distribution of Assets Size\", side=2)\n",
    "\n",
    "    data <-processCsv(\"data_files\")\n",
    "\n",
    "#         data<-ds\n",
    "    r <- data[data$ncreated_at > \"2011-06-07\",]\n",
    "    r <- r[r$ncreated_at < \"2011-11-11\",]\n",
    "    a<-graphVerDistribution(r)\n",
    "\n",
    "    test<-ks.test(a,b)\n",
    "\n",
    "    print(test$p)\n",
    "\n",
    "    #   data <- processCsv('models')\n",
    "    #   r <- data[data$ncreated_at < \"2011-05-05\",]\n",
    "    #   graphVerDistribution(r)\n",
    "    #   \n",
    "    #   \n",
    "    #   r <- data[data$ncreated_at > \"2011-05-05\",]\n",
    "    #   graphVerDistribution(r)\n",
    "    mtext( \"After 2011-May\", side=3)\n",
    "    mtext(paste(\"p-v=\", round(test$p, digits = 3) ,\"\"), side = 4)\n",
    "\n",
    "    # Size distribution\n",
    "    # r2 <- data2[data2$ncreated_at > \"2011-05-05\",]\n",
    "    # graphFileSizeDistribution(r2)  \n",
    "\n",
    "    return( (ks.test(a,b))\n",
    "    )\n",
    "\n",
    "}\n",
    "graphDSPEffect()"
   ]
  },
  {
   "cell_type": "markdown",
   "metadata": {},
   "source": [
    "The information about the Articles publication dates that apperar i nthe Fairdom page:\n",
    "- are not in the XML\n",
    "- Maybe in the database\n",
    "- or maybe extracted directly \n",
    "\n",
    "If in the database i need that table"
   ]
  },
  {
   "cell_type": "code",
   "execution_count": null,
   "metadata": {
    "collapsed": false
   },
   "outputs": [],
   "source": [
    "pjlog = com.load_data('projectLog')\n",
    "\n",
    "df = pjlog[pjlog['project_name'] == 'SUMO']\n",
    "# df = df[df['ncreated_at'] <= 15276]\n",
    "print df[df['activity_loggable_type'] == 'Publication'].head()\n",
    "\n",
    "pjlog.hist()\n",
    "#print df\n"
   ]
  },
  {
   "cell_type": "markdown",
   "metadata": {},
   "source": [
    "## Projects Descriptive Information\n",
    "\n",
    "- Diversity\n",
    "- Files size\n",
    "- Files contributed\n",
    "- name"
   ]
  },
  {
   "cell_type": "code",
   "execution_count": null,
   "metadata": {
    "collapsed": false
   },
   "outputs": [],
   "source": [
    "%%R\n",
    "d <- processSharingReportSum(8)\n",
    "print(d)\n",
    "\n",
    "# graphActivty()\n",
    "# graphFreq()\n",
    "# graphCategories()"
   ]
  },
  {
   "cell_type": "code",
   "execution_count": null,
   "metadata": {
    "collapsed": false
   },
   "outputs": [],
   "source": []
  },
  {
   "cell_type": "code",
   "execution_count": null,
   "metadata": {
    "collapsed": true
   },
   "outputs": [],
   "source": []
  }
 ],
 "metadata": {
  "kernelspec": {
   "display_name": "Python 2",
   "language": "python",
   "name": "python2"
  },
  "language_info": {
   "codemirror_mode": {
    "name": "ipython",
    "version": 2
   },
   "file_extension": ".py",
   "mimetype": "text/x-python",
   "name": "python",
   "nbconvert_exporter": "python",
   "pygments_lexer": "ipython2",
   "version": "2.7.11"
  }
 },
 "nbformat": 4,
 "nbformat_minor": 0
}
