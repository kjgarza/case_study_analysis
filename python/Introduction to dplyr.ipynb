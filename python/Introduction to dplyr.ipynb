{
 "cells": [
  {
   "cell_type": "markdown",
   "metadata": {},
   "source": [
    "# Introduction to dplyr"
   ]
  },
  {
   "cell_type": "code",
   "execution_count": 1,
   "metadata": {
    "collapsed": false
   },
   "outputs": [
    {
     "name": "stdout",
     "output_type": "stream",
     "text": [
      "Populating the interactive namespace from numpy and matplotlib\n",
      "Once deleted, variables cannot be recovered. Proceed (y/[n])? y\n"
     ]
    }
   ],
   "source": [
    "%pylab inline\n",
    "%load_ext rpy2.ipython\n",
    "%reload_ext rpy2.ipython\n",
    "%reset"
   ]
  },
  {
   "cell_type": "code",
   "execution_count": 9,
   "metadata": {
    "collapsed": false
   },
   "outputs": [
    {
     "data": {
      "text/plain": [
       "Source: local data frame [6 x 16]\n",
       "\n",
       "   year month   day dep_time dep_delay arr_time arr_delay carrier tailnum\n",
       "  (int) (int) (int)    (int)     (dbl)    (int)     (dbl)   (chr)   (chr)\n",
       "1  2013     1     1      517         2      830        11      UA  N14228\n",
       "2  2013     1     1      533         4      850        20      UA  N24211\n",
       "3  2013     1     1      542         2      923        33      AA  N619AA\n",
       "4  2013     1     1      544        -1     1004       -18      B6  N804JB\n",
       "5  2013     1     1      554        -6      812       -25      DL  N668DN\n",
       "6  2013     1     1      554        -4      740        12      UA  N39463\n",
       "Variables not shown: flight (int), origin (chr), dest (chr), air_time (dbl),\n",
       "  distance (dbl), hour (dbl), minute (dbl)\n"
      ]
     },
     "metadata": {},
     "output_type": "display_data"
    }
   ],
   "source": [
    "%%R\n",
    "library(nycflights13)\n",
    "library(dplyr)\n",
    "dim(flights)\n",
    "\n",
    "head(flights)"
   ]
  },
  {
   "cell_type": "markdown",
   "metadata": {},
   "source": [
    "##### Filter rows with filter()"
   ]
  },
  {
   "cell_type": "code",
   "execution_count": 10,
   "metadata": {
    "collapsed": false
   },
   "outputs": [
    {
     "data": {
      "text/plain": [
       "Source: local data frame [842 x 16]\n",
       "\n",
       "    year month   day dep_time dep_delay arr_time arr_delay carrier tailnum\n",
       "   (int) (int) (int)    (int)     (dbl)    (int)     (dbl)   (chr)   (chr)\n",
       "1   2013     1     1      517         2      830        11      UA  N14228\n",
       "2   2013     1     1      533         4      850        20      UA  N24211\n",
       "3   2013     1     1      542         2      923        33      AA  N619AA\n",
       "4   2013     1     1      544        -1     1004       -18      B6  N804JB\n",
       "5   2013     1     1      554        -6      812       -25      DL  N668DN\n",
       "6   2013     1     1      554        -4      740        12      UA  N39463\n",
       "7   2013     1     1      555        -5      913        19      B6  N516JB\n",
       "8   2013     1     1      557        -3      709       -14      EV  N829AS\n",
       "9   2013     1     1      557        -3      838        -8      B6  N593JB\n",
       "10  2013     1     1      558        -2      753         8      AA  N3ALAA\n",
       "..   ...   ...   ...      ...       ...      ...       ...     ...     ...\n",
       "Variables not shown: flight (int), origin (chr), dest (chr), air_time (dbl),\n",
       "  distance (dbl), hour (dbl), minute (dbl)\n"
      ]
     },
     "metadata": {},
     "output_type": "display_data"
    }
   ],
   "source": [
    "%%R \n",
    "filter(flights, month == 1, day == 1)"
   ]
  },
  {
   "cell_type": "code",
   "execution_count": 14,
   "metadata": {
    "collapsed": false
   },
   "outputs": [
    {
     "data": {
      "text/plain": [
       "Source: local data frame [5 x 16]\n",
       "\n",
       "   year month   day dep_time dep_delay arr_time arr_delay carrier tailnum\n",
       "  (int) (int) (int)    (int)     (dbl)    (int)     (dbl)   (chr)   (chr)\n",
       "1  2013     1     1      542         2      923        33      AA  N619AA\n",
       "2  2013     1     1      544        -1     1004       -18      B6  N804JB\n",
       "3  2013     1     1      554        -6      812       -25      DL  N668DN\n",
       "4  2013     1     1      554        -4      740        12      UA  N39463\n",
       "5  2013     1     1      555        -5      913        19      B6  N516JB\n",
       "Variables not shown: flight (int), origin (chr), dest (chr), air_time (dbl),\n",
       "  distance (dbl), hour (dbl), minute (dbl)\n"
      ]
     },
     "metadata": {},
     "output_type": "display_data"
    }
   ],
   "source": [
    "%%R\n",
    "slice(flights, 3:7)"
   ]
  },
  {
   "cell_type": "code",
   "execution_count": 15,
   "metadata": {
    "collapsed": false
   },
   "outputs": [
    {
     "data": {
      "text/plain": [
       "Source: local data frame [336,776 x 16]\n",
       "\n",
       "    year month   day dep_time dep_delay arr_time arr_delay carrier tailnum\n",
       "   (int) (int) (int)    (int)     (dbl)    (int)     (dbl)   (chr)   (chr)\n",
       "1   2013     1     1      517         2      830        11      UA  N14228\n",
       "2   2013     1     1      533         4      850        20      UA  N24211\n",
       "3   2013     1     1      542         2      923        33      AA  N619AA\n",
       "4   2013     1     1      544        -1     1004       -18      B6  N804JB\n",
       "5   2013     1     1      554        -6      812       -25      DL  N668DN\n",
       "6   2013     1     1      554        -4      740        12      UA  N39463\n",
       "7   2013     1     1      555        -5      913        19      B6  N516JB\n",
       "8   2013     1     1      557        -3      709       -14      EV  N829AS\n",
       "9   2013     1     1      557        -3      838        -8      B6  N593JB\n",
       "10  2013     1     1      558        -2      753         8      AA  N3ALAA\n",
       "..   ...   ...   ...      ...       ...      ...       ...     ...     ...\n",
       "Variables not shown: flight (int), origin (chr), dest (chr), air_time (dbl),\n",
       "  distance (dbl), hour (dbl), minute (dbl)\n"
      ]
     },
     "metadata": {},
     "output_type": "display_data"
    }
   ],
   "source": [
    "%%R\n",
    "arrange(flights, year, month, day)"
   ]
  },
  {
   "cell_type": "code",
   "execution_count": 16,
   "metadata": {
    "collapsed": false
   },
   "outputs": [
    {
     "data": {
      "text/plain": [
       "Source: local data frame [336,776 x 16]\n",
       "\n",
       "    year month   day dep_time dep_delay arr_time arr_delay carrier tailnum\n",
       "   (int) (int) (int)    (int)     (dbl)    (int)     (dbl)   (chr)   (chr)\n",
       "1   2013     1     9      641      1301     1242      1272      HA  N384HA\n",
       "2   2013     6    15     1432      1137     1607      1127      MQ  N504MQ\n",
       "3   2013     1    10     1121      1126     1239      1109      MQ  N517MQ\n",
       "4   2013     9    20     1139      1014     1457      1007      AA  N338AA\n",
       "5   2013     7    22      845      1005     1044       989      MQ  N665MQ\n",
       "6   2013     4    10     1100       960     1342       931      DL  N959DL\n",
       "7   2013     3    17     2321       911      135       915      DL  N927DA\n",
       "8   2013     7    22     2257       898      121       895      DL  N6716C\n",
       "9   2013    12     5      756       896     1058       878      AA  N5DMAA\n",
       "10  2013     5     3     1133       878     1250       875      MQ  N523MQ\n",
       "..   ...   ...   ...      ...       ...      ...       ...     ...     ...\n",
       "Variables not shown: flight (int), origin (chr), dest (chr), air_time (dbl),\n",
       "  distance (dbl), hour (dbl), minute (dbl)\n"
      ]
     },
     "metadata": {},
     "output_type": "display_data"
    }
   ],
   "source": [
    "%%R\n",
    "arrange(flights, desc(arr_delay))"
   ]
  },
  {
   "cell_type": "markdown",
   "metadata": {},
   "source": [
    "#### Add new columns with mutate()"
   ]
  },
  {
   "cell_type": "code",
   "execution_count": 20,
   "metadata": {
    "collapsed": false
   },
   "outputs": [
    {
     "data": {
      "text/plain": [
       "Source: local data frame [336,776 x 18]\n",
       "\n",
       "    year month   day dep_time dep_delay arr_time arr_delay carrier tailnum\n",
       "   (int) (int) (int)    (int)     (dbl)    (int)     (dbl)   (chr)   (chr)\n",
       "1   2013     1     1      517         2      830        11      UA  N14228\n",
       "2   2013     1     1      533         4      850        20      UA  N24211\n",
       "3   2013     1     1      542         2      923        33      AA  N619AA\n",
       "4   2013     1     1      544        -1     1004       -18      B6  N804JB\n",
       "5   2013     1     1      554        -6      812       -25      DL  N668DN\n",
       "6   2013     1     1      554        -4      740        12      UA  N39463\n",
       "7   2013     1     1      555        -5      913        19      B6  N516JB\n",
       "8   2013     1     1      557        -3      709       -14      EV  N829AS\n",
       "9   2013     1     1      557        -3      838        -8      B6  N593JB\n",
       "10  2013     1     1      558        -2      753         8      AA  N3ALAA\n",
       "..   ...   ...   ...      ...       ...      ...       ...     ...     ...\n",
       "Variables not shown: flight (int), origin (chr), dest (chr), air_time (dbl),\n",
       "  distance (dbl), hour (dbl), minute (dbl), gain (dbl), speed (dbl)\n"
      ]
     },
     "metadata": {},
     "output_type": "display_data"
    }
   ],
   "source": [
    "%%R\n",
    "mutate(flights, \n",
    "  gain = arr_delay - dep_delay, \n",
    "  speed = distance / air_time * 60)"
   ]
  },
  {
   "cell_type": "code",
   "execution_count": 21,
   "metadata": {
    "collapsed": false
   },
   "outputs": [
    {
     "data": {
      "text/plain": [
       "Source: local data frame [336,776 x 18]\n",
       "\n",
       "    year month   day dep_time dep_delay arr_time arr_delay carrier tailnum\n",
       "   (int) (int) (int)    (int)     (dbl)    (int)     (dbl)   (chr)   (chr)\n",
       "1   2013     1     1      517         2      830        11      UA  N14228\n",
       "2   2013     1     1      533         4      850        20      UA  N24211\n",
       "3   2013     1     1      542         2      923        33      AA  N619AA\n",
       "4   2013     1     1      544        -1     1004       -18      B6  N804JB\n",
       "5   2013     1     1      554        -6      812       -25      DL  N668DN\n",
       "6   2013     1     1      554        -4      740        12      UA  N39463\n",
       "7   2013     1     1      555        -5      913        19      B6  N516JB\n",
       "8   2013     1     1      557        -3      709       -14      EV  N829AS\n",
       "9   2013     1     1      557        -3      838        -8      B6  N593JB\n",
       "10  2013     1     1      558        -2      753         8      AA  N3ALAA\n",
       "..   ...   ...   ...      ...       ...      ...       ...     ...     ...\n",
       "Variables not shown: flight (int), origin (chr), dest (chr), air_time (dbl),\n",
       "  distance (dbl), hour (dbl), minute (dbl), gain (dbl), gain_per_hour (dbl)\n"
      ]
     },
     "metadata": {},
     "output_type": "display_data"
    }
   ],
   "source": [
    "%%R\n",
    "mutate(flights,\n",
    "  gain = arr_delay - dep_delay,\n",
    "  gain_per_hour = gain / (air_time / 60)\n",
    ")"
   ]
  },
  {
   "cell_type": "markdown",
   "metadata": {},
   "source": [
    "#### Summarise values with summarise()"
   ]
  },
  {
   "cell_type": "code",
   "execution_count": 24,
   "metadata": {
    "collapsed": false
   },
   "outputs": [
    {
     "data": {
      "text/plain": [
       "Source: local data frame [1 x 1]\n",
       "\n",
       "     delay\n",
       "     (dbl)\n",
       "1 12.63907\n"
      ]
     },
     "metadata": {},
     "output_type": "display_data"
    }
   ],
   "source": [
    "%%R \n",
    "summarise(flights,\n",
    "  delay = mean(dep_delay, na.rm = TRUE))"
   ]
  },
  {
   "cell_type": "markdown",
   "metadata": {},
   "source": [
    "#### Randomly sample rows with sample_n() and sample_frac()"
   ]
  },
  {
   "cell_type": "code",
   "execution_count": 30,
   "metadata": {
    "collapsed": false
   },
   "outputs": [
    {
     "data": {
      "text/plain": [
       "Source: local data frame [10 x 16]\n",
       "\n",
       "    year month   day dep_time dep_delay arr_time arr_delay carrier tailnum\n",
       "   (int) (int) (int)    (int)     (dbl)    (int)     (dbl)   (chr)   (chr)\n",
       "1   2013     1     9      854        -1     1101        -3      9E  N906XJ\n",
       "2   2013    12    14     1040        13     1226        30      EV  N16951\n",
       "3   2013     6     5      753        -7      918         5      US  N751UW\n",
       "4   2013     4    19     2020        85       NA        NA      MQ  N3AEMQ\n",
       "5   2013    11    20      856        -4     1114       -16      DL  N989AT\n",
       "6   2013     3     3     1029         0     1336        -8      UA  N39415\n",
       "7   2013     7    24      628        -2      844        -1      DL  N308DE\n",
       "8   2013    10     1     1143        -2     1409       -46      DL  N327NB\n",
       "9   2013     1    27     1506         6     1742         0      DL  N541US\n",
       "10  2013     8     1     2056        -4     2225       -10      AA  N4YNAA\n",
       "Variables not shown: flight (int), origin (chr), dest (chr), air_time (dbl),\n",
       "  distance (dbl), hour (dbl), minute (dbl)\n"
      ]
     },
     "metadata": {},
     "output_type": "display_data"
    }
   ],
   "source": [
    "%%R\n",
    "sample_n(flights, 10)"
   ]
  },
  {
   "cell_type": "markdown",
   "metadata": {},
   "source": [
    "#### Chaining"
   ]
  },
  {
   "cell_type": "code",
   "execution_count": 33,
   "metadata": {
    "collapsed": false
   },
   "outputs": [
    {
     "data": {
      "text/plain": [
       "Source: local data frame [6 x 4]\n",
       "\n",
       "  tailnum count     dist     delay\n",
       "    (chr) (int)    (dbl)     (dbl)\n",
       "1          2512 710.2576       NaN\n",
       "2  N0EGMQ   371 676.1887  9.982955\n",
       "3  N10156   153 757.9477 12.717241\n",
       "4  N102UW    48 535.8750  2.937500\n",
       "5  N103US    46 535.1957 -6.934783\n",
       "6  N104UW    47 535.2553  1.804348\n"
      ]
     },
     "metadata": {},
     "output_type": "display_data"
    }
   ],
   "source": [
    "%%R\n",
    "\n",
    "by_tailnum <- group_by(flights, tailnum)\n",
    "delay <- summarise(by_tailnum,\n",
    "  count = n(),\n",
    "  dist = mean(distance, na.rm = TRUE),\n",
    "  delay = mean(arr_delay, na.rm = TRUE))\n",
    "delay <- filter(delay, count > 20, dist < 2000)\n",
    "\n",
    "head(delay)"
   ]
  },
  {
   "cell_type": "code",
   "execution_count": 35,
   "metadata": {
    "collapsed": false
   },
   "outputs": [
    {
     "data": {
      "text/plain": [
       "Source: local data frame [2,959 x 4]\n",
       "\n",
       "   tailnum count     dist      delay\n",
       "     (chr) (int)    (dbl)      (dbl)\n",
       "1   N0EGMQ   371 676.1887  9.9829545\n",
       "2   N10156   153 757.9477 12.7172414\n",
       "3   N102UW    48 535.8750  2.9375000\n",
       "4   N103US    46 535.1957 -6.9347826\n",
       "5   N104UW    47 535.2553  1.8043478\n",
       "6   N10575   289 519.7024 20.6914498\n",
       "7   N105UW    45 524.8444 -0.2666667\n",
       "8   N107US    41 528.7073 -5.7317073\n",
       "9   N108UW    60 534.5000 -1.2500000\n",
       "10  N109UW    48 535.8750 -2.5208333\n",
       "..     ...   ...      ...        ...\n"
      ]
     },
     "metadata": {},
     "output_type": "display_data"
    }
   ],
   "source": [
    "%%R\n",
    "\n",
    "flights %>%\n",
    "  group_by(tailnum) %>%\n",
    "  summarise(\n",
    "      count = n(),\n",
    "      dist = mean(distance, na.rm = TRUE),\n",
    "      delay = mean(arr_delay, na.rm = TRUE)\n",
    "  ) %>%\n",
    "  filter(delay, count > 20, dist < 2000)\n"
   ]
  },
  {
   "cell_type": "code",
   "execution_count": 31,
   "metadata": {
    "collapsed": false
   },
   "outputs": [
    {
     "data": {
      "text/plain": [
       "Source: local data frame [49 x 5]\n",
       "Groups: year, month [11]\n",
       "\n",
       "    year month   day      arr      dep\n",
       "   (int) (int) (int)    (dbl)    (dbl)\n",
       "1   2013     1    16 34.24736 24.61287\n",
       "2   2013     1    31 32.60285 28.65836\n",
       "3   2013     2    11 36.29009 39.07360\n",
       "4   2013     2    27 31.25249 37.76327\n",
       "5   2013     3     8 85.86216 83.53692\n",
       "6   2013     3    18 41.29189 30.11796\n",
       "7   2013     4    10 38.41231 33.02368\n",
       "8   2013     4    12 36.04814 34.83843\n",
       "9   2013     4    18 36.02848 34.91536\n",
       "10  2013     4    19 47.91170 46.12783\n",
       "..   ...   ...   ...      ...      ...\n"
      ]
     },
     "metadata": {},
     "output_type": "display_data"
    }
   ],
   "source": [
    "%%R\n",
    "flights %>%\n",
    "  group_by(year, month, day) %>%\n",
    "  select(arr_delay, dep_delay) %>%\n",
    "  summarise(\n",
    "    arr = mean(arr_delay, na.rm = TRUE),\n",
    "    dep = mean(dep_delay, na.rm = TRUE)\n",
    "  ) %>%\n",
    "  filter(arr > 30 | dep > 30)"
   ]
  },
  {
   "cell_type": "code",
   "execution_count": null,
   "metadata": {
    "collapsed": true
   },
   "outputs": [],
   "source": []
  }
 ],
 "metadata": {
  "kernelspec": {
   "display_name": "Python 2",
   "language": "python",
   "name": "python2"
  },
  "language_info": {
   "codemirror_mode": {
    "name": "ipython",
    "version": 2
   },
   "file_extension": ".py",
   "mimetype": "text/x-python",
   "name": "python",
   "nbconvert_exporter": "python",
   "pygments_lexer": "ipython2",
   "version": "2.7.11"
  }
 },
 "nbformat": 4,
 "nbformat_minor": 0
}
